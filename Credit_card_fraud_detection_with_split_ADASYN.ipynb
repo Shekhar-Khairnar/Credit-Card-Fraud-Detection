{
 "cells": [
  {
   "cell_type": "markdown",
   "id": "19f49106",
   "metadata": {},
   "source": [
    "### DATASET link : https://www.kaggle.com/mlg-ulb/creditcardfraud/code?datasetId=310&sortBy=voteCount"
   ]
  },
  {
   "cell_type": "markdown",
   "id": "85edaf60",
   "metadata": {},
   "source": [
    "# Credit Card Fraud Detection Using Machine Learning Algorithms"
   ]
  },
  {
   "cell_type": "markdown",
   "id": "79e5d2d8",
   "metadata": {},
   "source": [
    "#### The goal of this project is to track the pattern of all the transactions and if any pattern is abnormal then the transaction should be classified as fraud."
   ]
  },
  {
   "cell_type": "markdown",
   "id": "5741b487",
   "metadata": {},
   "source": [
    "#### Import Required Libraries"
   ]
  },
  {
   "cell_type": "code",
   "execution_count": 1,
   "id": "c09a7429",
   "metadata": {},
   "outputs": [],
   "source": [
    "import numpy as np\n",
    "import pandas as pd\n",
    "import matplotlib.pyplot as plt\n",
    "import seaborn as sns\n",
    "import warnings\n",
    "warnings.filterwarnings(\"ignore\")\n",
    "from matplotlib.pyplot import figure\n",
    "import sklearn.metrics as metrics\n"
   ]
  },
  {
   "cell_type": "markdown",
   "id": "fa405b84",
   "metadata": {},
   "source": [
    "#### Import CSV file"
   ]
  },
  {
   "cell_type": "code",
   "execution_count": 2,
   "id": "9cd96107",
   "metadata": {},
   "outputs": [],
   "source": [
    "dataset = pd.read_csv('creditcard.csv')"
   ]
  },
  {
   "cell_type": "code",
   "execution_count": 3,
   "id": "f778b61d",
   "metadata": {},
   "outputs": [
    {
     "data": {
      "text/html": [
       "<div>\n",
       "<style scoped>\n",
       "    .dataframe tbody tr th:only-of-type {\n",
       "        vertical-align: middle;\n",
       "    }\n",
       "\n",
       "    .dataframe tbody tr th {\n",
       "        vertical-align: top;\n",
       "    }\n",
       "\n",
       "    .dataframe thead th {\n",
       "        text-align: right;\n",
       "    }\n",
       "</style>\n",
       "<table border=\"1\" class=\"dataframe\">\n",
       "  <thead>\n",
       "    <tr style=\"text-align: right;\">\n",
       "      <th></th>\n",
       "      <th>Time</th>\n",
       "      <th>V1</th>\n",
       "      <th>V2</th>\n",
       "      <th>V3</th>\n",
       "      <th>V4</th>\n",
       "      <th>V5</th>\n",
       "      <th>V6</th>\n",
       "      <th>V7</th>\n",
       "      <th>V8</th>\n",
       "      <th>V9</th>\n",
       "      <th>...</th>\n",
       "      <th>V21</th>\n",
       "      <th>V22</th>\n",
       "      <th>V23</th>\n",
       "      <th>V24</th>\n",
       "      <th>V25</th>\n",
       "      <th>V26</th>\n",
       "      <th>V27</th>\n",
       "      <th>V28</th>\n",
       "      <th>Amount</th>\n",
       "      <th>Class</th>\n",
       "    </tr>\n",
       "  </thead>\n",
       "  <tbody>\n",
       "    <tr>\n",
       "      <th>284802</th>\n",
       "      <td>172786.0</td>\n",
       "      <td>-11.881118</td>\n",
       "      <td>10.071785</td>\n",
       "      <td>-9.834783</td>\n",
       "      <td>-2.066656</td>\n",
       "      <td>-5.364473</td>\n",
       "      <td>-2.606837</td>\n",
       "      <td>-4.918215</td>\n",
       "      <td>7.305334</td>\n",
       "      <td>1.914428</td>\n",
       "      <td>...</td>\n",
       "      <td>0.213454</td>\n",
       "      <td>0.111864</td>\n",
       "      <td>1.014480</td>\n",
       "      <td>-0.509348</td>\n",
       "      <td>1.436807</td>\n",
       "      <td>0.250034</td>\n",
       "      <td>0.943651</td>\n",
       "      <td>0.823731</td>\n",
       "      <td>0.77</td>\n",
       "      <td>0</td>\n",
       "    </tr>\n",
       "    <tr>\n",
       "      <th>284803</th>\n",
       "      <td>172787.0</td>\n",
       "      <td>-0.732789</td>\n",
       "      <td>-0.055080</td>\n",
       "      <td>2.035030</td>\n",
       "      <td>-0.738589</td>\n",
       "      <td>0.868229</td>\n",
       "      <td>1.058415</td>\n",
       "      <td>0.024330</td>\n",
       "      <td>0.294869</td>\n",
       "      <td>0.584800</td>\n",
       "      <td>...</td>\n",
       "      <td>0.214205</td>\n",
       "      <td>0.924384</td>\n",
       "      <td>0.012463</td>\n",
       "      <td>-1.016226</td>\n",
       "      <td>-0.606624</td>\n",
       "      <td>-0.395255</td>\n",
       "      <td>0.068472</td>\n",
       "      <td>-0.053527</td>\n",
       "      <td>24.79</td>\n",
       "      <td>0</td>\n",
       "    </tr>\n",
       "    <tr>\n",
       "      <th>284804</th>\n",
       "      <td>172788.0</td>\n",
       "      <td>1.919565</td>\n",
       "      <td>-0.301254</td>\n",
       "      <td>-3.249640</td>\n",
       "      <td>-0.557828</td>\n",
       "      <td>2.630515</td>\n",
       "      <td>3.031260</td>\n",
       "      <td>-0.296827</td>\n",
       "      <td>0.708417</td>\n",
       "      <td>0.432454</td>\n",
       "      <td>...</td>\n",
       "      <td>0.232045</td>\n",
       "      <td>0.578229</td>\n",
       "      <td>-0.037501</td>\n",
       "      <td>0.640134</td>\n",
       "      <td>0.265745</td>\n",
       "      <td>-0.087371</td>\n",
       "      <td>0.004455</td>\n",
       "      <td>-0.026561</td>\n",
       "      <td>67.88</td>\n",
       "      <td>0</td>\n",
       "    </tr>\n",
       "    <tr>\n",
       "      <th>284805</th>\n",
       "      <td>172788.0</td>\n",
       "      <td>-0.240440</td>\n",
       "      <td>0.530483</td>\n",
       "      <td>0.702510</td>\n",
       "      <td>0.689799</td>\n",
       "      <td>-0.377961</td>\n",
       "      <td>0.623708</td>\n",
       "      <td>-0.686180</td>\n",
       "      <td>0.679145</td>\n",
       "      <td>0.392087</td>\n",
       "      <td>...</td>\n",
       "      <td>0.265245</td>\n",
       "      <td>0.800049</td>\n",
       "      <td>-0.163298</td>\n",
       "      <td>0.123205</td>\n",
       "      <td>-0.569159</td>\n",
       "      <td>0.546668</td>\n",
       "      <td>0.108821</td>\n",
       "      <td>0.104533</td>\n",
       "      <td>10.00</td>\n",
       "      <td>0</td>\n",
       "    </tr>\n",
       "    <tr>\n",
       "      <th>284806</th>\n",
       "      <td>172792.0</td>\n",
       "      <td>-0.533413</td>\n",
       "      <td>-0.189733</td>\n",
       "      <td>0.703337</td>\n",
       "      <td>-0.506271</td>\n",
       "      <td>-0.012546</td>\n",
       "      <td>-0.649617</td>\n",
       "      <td>1.577006</td>\n",
       "      <td>-0.414650</td>\n",
       "      <td>0.486180</td>\n",
       "      <td>...</td>\n",
       "      <td>0.261057</td>\n",
       "      <td>0.643078</td>\n",
       "      <td>0.376777</td>\n",
       "      <td>0.008797</td>\n",
       "      <td>-0.473649</td>\n",
       "      <td>-0.818267</td>\n",
       "      <td>-0.002415</td>\n",
       "      <td>0.013649</td>\n",
       "      <td>217.00</td>\n",
       "      <td>0</td>\n",
       "    </tr>\n",
       "  </tbody>\n",
       "</table>\n",
       "<p>5 rows × 31 columns</p>\n",
       "</div>"
      ],
      "text/plain": [
       "            Time         V1         V2        V3        V4        V5  \\\n",
       "284802  172786.0 -11.881118  10.071785 -9.834783 -2.066656 -5.364473   \n",
       "284803  172787.0  -0.732789  -0.055080  2.035030 -0.738589  0.868229   \n",
       "284804  172788.0   1.919565  -0.301254 -3.249640 -0.557828  2.630515   \n",
       "284805  172788.0  -0.240440   0.530483  0.702510  0.689799 -0.377961   \n",
       "284806  172792.0  -0.533413  -0.189733  0.703337 -0.506271 -0.012546   \n",
       "\n",
       "              V6        V7        V8        V9  ...       V21       V22  \\\n",
       "284802 -2.606837 -4.918215  7.305334  1.914428  ...  0.213454  0.111864   \n",
       "284803  1.058415  0.024330  0.294869  0.584800  ...  0.214205  0.924384   \n",
       "284804  3.031260 -0.296827  0.708417  0.432454  ...  0.232045  0.578229   \n",
       "284805  0.623708 -0.686180  0.679145  0.392087  ...  0.265245  0.800049   \n",
       "284806 -0.649617  1.577006 -0.414650  0.486180  ...  0.261057  0.643078   \n",
       "\n",
       "             V23       V24       V25       V26       V27       V28  Amount  \\\n",
       "284802  1.014480 -0.509348  1.436807  0.250034  0.943651  0.823731    0.77   \n",
       "284803  0.012463 -1.016226 -0.606624 -0.395255  0.068472 -0.053527   24.79   \n",
       "284804 -0.037501  0.640134  0.265745 -0.087371  0.004455 -0.026561   67.88   \n",
       "284805 -0.163298  0.123205 -0.569159  0.546668  0.108821  0.104533   10.00   \n",
       "284806  0.376777  0.008797 -0.473649 -0.818267 -0.002415  0.013649  217.00   \n",
       "\n",
       "        Class  \n",
       "284802      0  \n",
       "284803      0  \n",
       "284804      0  \n",
       "284805      0  \n",
       "284806      0  \n",
       "\n",
       "[5 rows x 31 columns]"
      ]
     },
     "execution_count": 3,
     "metadata": {},
     "output_type": "execute_result"
    }
   ],
   "source": [
    "dataset.tail()"
   ]
  },
  {
   "cell_type": "code",
   "execution_count": 4,
   "id": "4f961d5f",
   "metadata": {},
   "outputs": [],
   "source": [
    "dataset.drop('Time',inplace=True,axis = 1)"
   ]
  },
  {
   "cell_type": "code",
   "execution_count": 5,
   "id": "de000fec",
   "metadata": {},
   "outputs": [
    {
     "data": {
      "text/plain": [
       "(284807, 30)"
      ]
     },
     "execution_count": 5,
     "metadata": {},
     "output_type": "execute_result"
    }
   ],
   "source": [
    "# check the shape of dataset\n",
    "dataset.shape"
   ]
  },
  {
   "cell_type": "markdown",
   "id": "b7c8e128",
   "metadata": {},
   "source": [
    "so we have a total of 284807 transaction    "
   ]
  },
  {
   "cell_type": "markdown",
   "id": "7888d2e9",
   "metadata": {},
   "source": [
    "lets check for nan values"
   ]
  },
  {
   "cell_type": "code",
   "execution_count": 6,
   "id": "f909bc8f",
   "metadata": {},
   "outputs": [],
   "source": [
    "dataset = dataset.dropna()"
   ]
  },
  {
   "cell_type": "code",
   "execution_count": 7,
   "id": "3b2edb18",
   "metadata": {},
   "outputs": [
    {
     "data": {
      "text/plain": [
       "(284807, 30)"
      ]
     },
     "execution_count": 7,
     "metadata": {},
     "output_type": "execute_result"
    }
   ],
   "source": [
    "dataset.shape"
   ]
  },
  {
   "cell_type": "markdown",
   "id": "c8ba9fa1",
   "metadata": {},
   "source": [
    "Thus we can see no data has been dropped"
   ]
  },
  {
   "cell_type": "markdown",
   "id": "44e3e694",
   "metadata": {},
   "source": [
    "##### we need to check for any duplicate transaction taking place and remove it if present to bring down the runtime of the model."
   ]
  },
  {
   "cell_type": "code",
   "execution_count": 8,
   "id": "39a9b6a5",
   "metadata": {},
   "outputs": [],
   "source": [
    "dataset.drop_duplicates(inplace=True)"
   ]
  },
  {
   "cell_type": "code",
   "execution_count": 9,
   "id": "3ffe220f",
   "metadata": {},
   "outputs": [
    {
     "data": {
      "text/plain": [
       "(275663, 30)"
      ]
     },
     "execution_count": 9,
     "metadata": {},
     "output_type": "execute_result"
    }
   ],
   "source": [
    "dataset.shape"
   ]
  },
  {
   "cell_type": "code",
   "execution_count": 10,
   "id": "cd073caa",
   "metadata": {},
   "outputs": [
    {
     "data": {
      "text/plain": [
       "9144"
      ]
     },
     "execution_count": 10,
     "metadata": {},
     "output_type": "execute_result"
    }
   ],
   "source": [
    "284807-275663"
   ]
  },
  {
   "cell_type": "markdown",
   "id": "09b860e9",
   "metadata": {},
   "source": [
    "Thus we removed 9144 duplicates form the dataset."
   ]
  },
  {
   "cell_type": "code",
   "execution_count": 11,
   "id": "8e9f2e50",
   "metadata": {},
   "outputs": [
    {
     "data": {
      "text/plain": [
       "<AxesSubplot:>"
      ]
     },
     "execution_count": 11,
     "metadata": {},
     "output_type": "execute_result"
    },
    {
     "data": {
      "image/png": "[encoded data removed]",
      "text/plain": [
       "<Figure size 432x288 with 1 Axes>"
      ]
     },
     "metadata": {
      "needs_background": "light"
     },
     "output_type": "display_data"
    }
   ],
   "source": [
    "dataset.boxplot(figsize= (15,15))"
   ]
  },
  {
   "cell_type": "code",
   "execution_count": 12,
   "id": "e88b394e",
   "metadata": {},
   "outputs": [
    {
     "data": {
      "image/png": "[encoded data removed]",
      "text/plain": [
       "<Figure size 640x480 with 1 Axes>"
      ]
     },
     "metadata": {},
     "output_type": "display_data"
    }
   ],
   "source": [
    "sns.countplot('Class',data = dataset);"
   ]
  },
  {
   "cell_type": "code",
   "execution_count": 13,
   "id": "e9da8c4f",
   "metadata": {},
   "outputs": [],
   "source": [
    "# lets check for number of normal and fraud transaction\n",
    "fraud = len(dataset[dataset['Class'] == 1])\n",
    "normal = len(dataset[dataset['Class'] == 0])\n",
    "percent_normal = normal/len(dataset)*100\n",
    "percent_fraud = fraud/len(dataset)*100"
   ]
  },
  {
   "cell_type": "code",
   "execution_count": 14,
   "id": "5ee60a91",
   "metadata": {},
   "outputs": [
    {
     "name": "stdout",
     "output_type": "stream",
     "text": [
      "Number of Fraud Transactions are: 473\n",
      "Number of Normal Transactions are: 275190\n",
      " \n",
      "Percentage of Fraud Transactions are: 0.17%\n",
      "Percentage of Normal Transactions are: 99.83%\n"
     ]
    }
   ],
   "source": [
    "print('Number of Fraud Transactions are: {}'.format(fraud))\n",
    "print('Number of Normal Transactions are: {}'.format(normal))\n",
    "print(' ')\n",
    "print('Percentage of Fraud Transactions are: {:.2f}%'.format(percent_fraud))\n",
    "print('Percentage of Normal Transactions are: {:.2f}%'.format(percent_normal))\n"
   ]
  },
  {
   "cell_type": "code",
   "execution_count": 15,
   "id": "fb261386",
   "metadata": {},
   "outputs": [],
   "source": [
    "X = dataset.drop(['Class'],axis=1)\n",
    "y = dataset['Class']"
   ]
  },
  {
   "cell_type": "code",
   "execution_count": 16,
   "id": "52bf66c4",
   "metadata": {},
   "outputs": [
    {
     "data": {
      "text/plain": [
       "0    0\n",
       "1    0\n",
       "2    0\n",
       "3    0\n",
       "4    0\n",
       "Name: Class, dtype: int64"
      ]
     },
     "execution_count": 16,
     "metadata": {},
     "output_type": "execute_result"
    }
   ],
   "source": [
    "y.head()"
   ]
  },
  {
   "cell_type": "code",
   "execution_count": 17,
   "id": "5e7ecd5b",
   "metadata": {},
   "outputs": [],
   "source": [
    "# Since we have imbalanced Dataset we need to balance it for the model\n",
    "# we will be using Adasyn method to balance the dataset"
   ]
  },
  {
   "cell_type": "code",
   "execution_count": 18,
   "id": "2b8f8252",
   "metadata": {},
   "outputs": [],
   "source": [
    "#pip install -U imbalanced-learn"
   ]
  },
  {
   "cell_type": "code",
   "execution_count": 19,
   "id": "4d476ec8",
   "metadata": {},
   "outputs": [],
   "source": [
    "from collections import Counter\n",
    "from imblearn.over_sampling import ADASYN "
   ]
  },
  {
   "cell_type": "code",
   "execution_count": 21,
   "id": "f613fbce",
   "metadata": {},
   "outputs": [],
   "source": [
    "# X_res.shape"
   ]
  },
  {
   "cell_type": "code",
   "execution_count": 22,
   "id": "63f1fe78",
   "metadata": {},
   "outputs": [],
   "source": [
    "# y_res.shape"
   ]
  },
  {
   "cell_type": "markdown",
   "id": "e173680b",
   "metadata": {},
   "source": [
    "#### now lets do the train test split"
   ]
  },
  {
   "cell_type": "code",
   "execution_count": 23,
   "id": "ce1b396c",
   "metadata": {},
   "outputs": [],
   "source": [
    "from sklearn.model_selection import train_test_split\n",
    "X_train, X_test, y_train, y_test = train_test_split(X, y, test_size=0.3, random_state=42,stratify= y)"
   ]
  },
  {
   "cell_type": "code",
   "execution_count": 25,
   "id": "42acad0d",
   "metadata": {},
   "outputs": [
    {
     "name": "stdout",
     "output_type": "stream",
     "text": [
      "Original y_train shape Counter({0: 192633, 1: 331})\n",
      "Original y_test shape Counter({0: 82557, 1: 142})\n",
      "\n",
      "Resampled y_train shape Counter({1: 192657, 0: 192633})\n",
      "Resampled y_test shape Counter({0: 82557, 1: 82543})\n"
     ]
    }
   ],
   "source": [
    "print('Original y_train shape {}'.format(Counter(y_train)))\n",
    "print('Original y_test shape {}'.format(Counter(y_test)))\n",
    "print()\n",
    "\n",
    "ada = ADASYN(random_state=42)\n",
    "X_train_ada, y_train_ada = ada.fit_resample(X_train, y_train)\n",
    "X_test_ada, y_test_ada = ada.fit_resample(X_test, y_test)\n",
    "print('Resampled y_train shape {}'.format(Counter(y_train_ada)))\n",
    "print('Resampled y_test shape {}'.format(Counter(y_test_ada)))"
   ]
  },
  {
   "cell_type": "code",
   "execution_count": 29,
   "id": "12b5e509",
   "metadata": {},
   "outputs": [],
   "source": [
    "normal_ada = len(y_train_ada[y_train_ada == 0])\n",
    "fraud_ada = len(y_train_ada[y_train_ada == 1])"
   ]
  },
  {
   "cell_type": "code",
   "execution_count": 30,
   "id": "1bfc3d03",
   "metadata": {},
   "outputs": [
    {
     "name": "stdout",
     "output_type": "stream",
     "text": [
      "Number of normal transaction in y_train are: 192633\n",
      "Number of fraud transaction in y_train are: 192657\n"
     ]
    }
   ],
   "source": [
    "print('Number of normal transaction in y_train are: {}'.format(normal_ada))\n",
    "print('Number of fraud transaction in y_train are: {}'.format(fraud_ada))"
   ]
  },
  {
   "cell_type": "markdown",
   "id": "f01d900a",
   "metadata": {},
   "source": [
    "#### thus we can see both the class type are equally distributed in the y_train set"
   ]
  },
  {
   "cell_type": "code",
   "execution_count": 31,
   "id": "e109f0f7",
   "metadata": {},
   "outputs": [],
   "source": [
    "# since most of our columns are scaled we need to scale the amount variable\n",
    "\n",
    "# We will use RobustScaler as it is less prone to outliers since it uses median to scale the data and median is not affected by outliers(inshort it preserves the outliers) \n",
    "# and in case of standardscaler it uses mean to scale the data.\n",
    "\n",
    "from sklearn.preprocessing import RobustScaler\n",
    "rob_scaler = RobustScaler()"
   ]
  },
  {
   "cell_type": "code",
   "execution_count": 32,
   "id": "d25aa6fe",
   "metadata": {},
   "outputs": [],
   "source": [
    "X_train_ada['scaled_amount'] = rob_scaler.fit_transform(X_train_ada['Amount'].values.reshape(-1,1))\n",
    "X_test_ada['scaled_amount'] = rob_scaler.transform(X_test_ada['Amount'].values.reshape(-1,1))"
   ]
  },
  {
   "cell_type": "code",
   "execution_count": 33,
   "id": "108524cc",
   "metadata": {},
   "outputs": [],
   "source": [
    "X_test_ada.drop(['Amount'], axis=1, inplace=True)\n",
    "X_train_ada.drop(['Amount'], axis=1, inplace=True)"
   ]
  },
  {
   "cell_type": "code",
   "execution_count": 35,
   "id": "faf644f0",
   "metadata": {},
   "outputs": [
    {
     "data": {
      "text/html": [
       "<div>\n",
       "<style scoped>\n",
       "    .dataframe tbody tr th:only-of-type {\n",
       "        vertical-align: middle;\n",
       "    }\n",
       "\n",
       "    .dataframe tbody tr th {\n",
       "        vertical-align: top;\n",
       "    }\n",
       "\n",
       "    .dataframe thead th {\n",
       "        text-align: right;\n",
       "    }\n",
       "</style>\n",
       "<table border=\"1\" class=\"dataframe\">\n",
       "  <thead>\n",
       "    <tr style=\"text-align: right;\">\n",
       "      <th></th>\n",
       "      <th>V1</th>\n",
       "      <th>V2</th>\n",
       "      <th>V3</th>\n",
       "      <th>V4</th>\n",
       "      <th>V5</th>\n",
       "      <th>V6</th>\n",
       "      <th>V7</th>\n",
       "      <th>V8</th>\n",
       "      <th>V9</th>\n",
       "      <th>V10</th>\n",
       "      <th>...</th>\n",
       "      <th>V20</th>\n",
       "      <th>V21</th>\n",
       "      <th>V22</th>\n",
       "      <th>V23</th>\n",
       "      <th>V24</th>\n",
       "      <th>V25</th>\n",
       "      <th>V26</th>\n",
       "      <th>V27</th>\n",
       "      <th>V28</th>\n",
       "      <th>scaled_amount</th>\n",
       "    </tr>\n",
       "  </thead>\n",
       "  <tbody>\n",
       "    <tr>\n",
       "      <th>0</th>\n",
       "      <td>-0.002649</td>\n",
       "      <td>1.709556</td>\n",
       "      <td>0.489033</td>\n",
       "      <td>4.506091</td>\n",
       "      <td>1.136082</td>\n",
       "      <td>-0.056107</td>\n",
       "      <td>1.149369</td>\n",
       "      <td>-0.226655</td>\n",
       "      <td>-2.336846</td>\n",
       "      <td>1.698369</td>\n",
       "      <td>...</td>\n",
       "      <td>0.374345</td>\n",
       "      <td>0.088556</td>\n",
       "      <td>0.555597</td>\n",
       "      <td>-0.114092</td>\n",
       "      <td>0.090210</td>\n",
       "      <td>-0.460603</td>\n",
       "      <td>0.383906</td>\n",
       "      <td>0.454328</td>\n",
       "      <td>0.275464</td>\n",
       "      <td>-0.139349</td>\n",
       "    </tr>\n",
       "    <tr>\n",
       "      <th>1</th>\n",
       "      <td>-0.441228</td>\n",
       "      <td>0.522613</td>\n",
       "      <td>2.056708</td>\n",
       "      <td>0.273655</td>\n",
       "      <td>-0.561277</td>\n",
       "      <td>-0.182498</td>\n",
       "      <td>0.442255</td>\n",
       "      <td>0.014473</td>\n",
       "      <td>0.072116</td>\n",
       "      <td>-0.733788</td>\n",
       "      <td>...</td>\n",
       "      <td>0.122673</td>\n",
       "      <td>0.180025</td>\n",
       "      <td>0.662586</td>\n",
       "      <td>-0.144130</td>\n",
       "      <td>0.460255</td>\n",
       "      <td>0.078934</td>\n",
       "      <td>0.464752</td>\n",
       "      <td>0.044296</td>\n",
       "      <td>0.064489</td>\n",
       "      <td>0.137666</td>\n",
       "    </tr>\n",
       "    <tr>\n",
       "      <th>2</th>\n",
       "      <td>-0.545032</td>\n",
       "      <td>-1.041010</td>\n",
       "      <td>1.747492</td>\n",
       "      <td>-2.535783</td>\n",
       "      <td>-0.446934</td>\n",
       "      <td>-0.326937</td>\n",
       "      <td>-1.035116</td>\n",
       "      <td>0.408528</td>\n",
       "      <td>-0.024587</td>\n",
       "      <td>-0.127417</td>\n",
       "      <td>...</td>\n",
       "      <td>-0.019667</td>\n",
       "      <td>0.622983</td>\n",
       "      <td>1.530363</td>\n",
       "      <td>0.031505</td>\n",
       "      <td>-0.350877</td>\n",
       "      <td>-0.974450</td>\n",
       "      <td>-0.418697</td>\n",
       "      <td>0.212298</td>\n",
       "      <td>0.227124</td>\n",
       "      <td>-0.093760</td>\n",
       "    </tr>\n",
       "    <tr>\n",
       "      <th>3</th>\n",
       "      <td>1.306569</td>\n",
       "      <td>-0.283383</td>\n",
       "      <td>0.587596</td>\n",
       "      <td>-0.931606</td>\n",
       "      <td>-0.698749</td>\n",
       "      <td>-0.324476</td>\n",
       "      <td>-0.507541</td>\n",
       "      <td>-0.049893</td>\n",
       "      <td>1.696392</td>\n",
       "      <td>-1.113906</td>\n",
       "      <td>...</td>\n",
       "      <td>-0.021855</td>\n",
       "      <td>-0.053475</td>\n",
       "      <td>0.159801</td>\n",
       "      <td>-0.154437</td>\n",
       "      <td>-0.411223</td>\n",
       "      <td>0.652536</td>\n",
       "      <td>-0.638002</td>\n",
       "      <td>0.100529</td>\n",
       "      <td>0.029255</td>\n",
       "      <td>-0.203962</td>\n",
       "    </tr>\n",
       "    <tr>\n",
       "      <th>4</th>\n",
       "      <td>-0.587835</td>\n",
       "      <td>-2.993923</td>\n",
       "      <td>0.020439</td>\n",
       "      <td>1.661459</td>\n",
       "      <td>-1.668793</td>\n",
       "      <td>0.273742</td>\n",
       "      <td>0.779287</td>\n",
       "      <td>-0.150220</td>\n",
       "      <td>0.750782</td>\n",
       "      <td>-0.800855</td>\n",
       "      <td>...</td>\n",
       "      <td>1.691114</td>\n",
       "      <td>0.452124</td>\n",
       "      <td>-0.322407</td>\n",
       "      <td>-0.787034</td>\n",
       "      <td>0.534481</td>\n",
       "      <td>0.091071</td>\n",
       "      <td>0.440215</td>\n",
       "      <td>-0.152130</td>\n",
       "      <td>0.169807</td>\n",
       "      <td>5.003741</td>\n",
       "    </tr>\n",
       "  </tbody>\n",
       "</table>\n",
       "<p>5 rows × 29 columns</p>\n",
       "</div>"
      ],
      "text/plain": [
       "         V1        V2        V3        V4        V5        V6        V7  \\\n",
       "0 -0.002649  1.709556  0.489033  4.506091  1.136082 -0.056107  1.149369   \n",
       "1 -0.441228  0.522613  2.056708  0.273655 -0.561277 -0.182498  0.442255   \n",
       "2 -0.545032 -1.041010  1.747492 -2.535783 -0.446934 -0.326937 -1.035116   \n",
       "3  1.306569 -0.283383  0.587596 -0.931606 -0.698749 -0.324476 -0.507541   \n",
       "4 -0.587835 -2.993923  0.020439  1.661459 -1.668793  0.273742  0.779287   \n",
       "\n",
       "         V8        V9       V10  ...       V20       V21       V22       V23  \\\n",
       "0 -0.226655 -2.336846  1.698369  ...  0.374345  0.088556  0.555597 -0.114092   \n",
       "1  0.014473  0.072116 -0.733788  ...  0.122673  0.180025  0.662586 -0.144130   \n",
       "2  0.408528 -0.024587 -0.127417  ... -0.019667  0.622983  1.530363  0.031505   \n",
       "3 -0.049893  1.696392 -1.113906  ... -0.021855 -0.053475  0.159801 -0.154437   \n",
       "4 -0.150220  0.750782 -0.800855  ...  1.691114  0.452124 -0.322407 -0.787034   \n",
       "\n",
       "        V24       V25       V26       V27       V28  scaled_amount  \n",
       "0  0.090210 -0.460603  0.383906  0.454328  0.275464      -0.139349  \n",
       "1  0.460255  0.078934  0.464752  0.044296  0.064489       0.137666  \n",
       "2 -0.350877 -0.974450 -0.418697  0.212298  0.227124      -0.093760  \n",
       "3 -0.411223  0.652536 -0.638002  0.100529  0.029255      -0.203962  \n",
       "4  0.534481  0.091071  0.440215 -0.152130  0.169807       5.003741  \n",
       "\n",
       "[5 rows x 29 columns]"
      ]
     },
     "execution_count": 35,
     "metadata": {},
     "output_type": "execute_result"
    }
   ],
   "source": [
    "X_train_ada.head()"
   ]
  },
  {
   "cell_type": "code",
   "execution_count": 37,
   "id": "18231e79",
   "metadata": {},
   "outputs": [
    {
     "data": {
      "text/html": [
       "<div>\n",
       "<style scoped>\n",
       "    .dataframe tbody tr th:only-of-type {\n",
       "        vertical-align: middle;\n",
       "    }\n",
       "\n",
       "    .dataframe tbody tr th {\n",
       "        vertical-align: top;\n",
       "    }\n",
       "\n",
       "    .dataframe thead th {\n",
       "        text-align: right;\n",
       "    }\n",
       "</style>\n",
       "<table border=\"1\" class=\"dataframe\">\n",
       "  <thead>\n",
       "    <tr style=\"text-align: right;\">\n",
       "      <th></th>\n",
       "      <th>V1</th>\n",
       "      <th>V2</th>\n",
       "      <th>V3</th>\n",
       "      <th>V4</th>\n",
       "      <th>V5</th>\n",
       "      <th>V6</th>\n",
       "      <th>V7</th>\n",
       "      <th>V8</th>\n",
       "      <th>V9</th>\n",
       "      <th>V10</th>\n",
       "      <th>...</th>\n",
       "      <th>V20</th>\n",
       "      <th>V21</th>\n",
       "      <th>V22</th>\n",
       "      <th>V23</th>\n",
       "      <th>V24</th>\n",
       "      <th>V25</th>\n",
       "      <th>V26</th>\n",
       "      <th>V27</th>\n",
       "      <th>V28</th>\n",
       "      <th>scaled_amount</th>\n",
       "    </tr>\n",
       "  </thead>\n",
       "  <tbody>\n",
       "    <tr>\n",
       "      <th>0</th>\n",
       "      <td>2.060595</td>\n",
       "      <td>-0.800830</td>\n",
       "      <td>-1.022627</td>\n",
       "      <td>-0.823464</td>\n",
       "      <td>-0.853588</td>\n",
       "      <td>-1.370926</td>\n",
       "      <td>-0.332048</td>\n",
       "      <td>-0.366907</td>\n",
       "      <td>-0.926808</td>\n",
       "      <td>1.000320</td>\n",
       "      <td>...</td>\n",
       "      <td>0.098699</td>\n",
       "      <td>0.570817</td>\n",
       "      <td>1.583347</td>\n",
       "      <td>-0.002528</td>\n",
       "      <td>0.637096</td>\n",
       "      <td>0.098463</td>\n",
       "      <td>0.013673</td>\n",
       "      <td>-0.040759</td>\n",
       "      <td>-0.059892</td>\n",
       "      <td>0.108665</td>\n",
       "    </tr>\n",
       "    <tr>\n",
       "      <th>1</th>\n",
       "      <td>1.344839</td>\n",
       "      <td>-1.278537</td>\n",
       "      <td>0.522994</td>\n",
       "      <td>-1.470681</td>\n",
       "      <td>-1.575902</td>\n",
       "      <td>-0.383679</td>\n",
       "      <td>-1.096722</td>\n",
       "      <td>-0.023559</td>\n",
       "      <td>-1.974066</td>\n",
       "      <td>1.552463</td>\n",
       "      <td>...</td>\n",
       "      <td>-0.161566</td>\n",
       "      <td>-0.296573</td>\n",
       "      <td>-0.701976</td>\n",
       "      <td>0.063528</td>\n",
       "      <td>-0.058951</td>\n",
       "      <td>0.116915</td>\n",
       "      <td>-0.413950</td>\n",
       "      <td>0.024919</td>\n",
       "      <td>0.028485</td>\n",
       "      <td>0.280349</td>\n",
       "    </tr>\n",
       "    <tr>\n",
       "      <th>2</th>\n",
       "      <td>0.036577</td>\n",
       "      <td>0.857407</td>\n",
       "      <td>0.301358</td>\n",
       "      <td>-0.580349</td>\n",
       "      <td>0.423443</td>\n",
       "      <td>-1.144374</td>\n",
       "      <td>0.994537</td>\n",
       "      <td>-0.206516</td>\n",
       "      <td>-0.043969</td>\n",
       "      <td>-0.407697</td>\n",
       "      <td>...</td>\n",
       "      <td>-0.039455</td>\n",
       "      <td>-0.259930</td>\n",
       "      <td>-0.569864</td>\n",
       "      <td>0.068311</td>\n",
       "      <td>0.039827</td>\n",
       "      <td>-0.490446</td>\n",
       "      <td>0.137789</td>\n",
       "      <td>0.247474</td>\n",
       "      <td>0.097668</td>\n",
       "      <td>-0.204600</td>\n",
       "    </tr>\n",
       "    <tr>\n",
       "      <th>3</th>\n",
       "      <td>-0.756032</td>\n",
       "      <td>0.387262</td>\n",
       "      <td>-1.758907</td>\n",
       "      <td>-1.375359</td>\n",
       "      <td>2.790965</td>\n",
       "      <td>3.220127</td>\n",
       "      <td>0.056107</td>\n",
       "      <td>1.281056</td>\n",
       "      <td>-0.385939</td>\n",
       "      <td>-0.604053</td>\n",
       "      <td>...</td>\n",
       "      <td>0.202370</td>\n",
       "      <td>0.454641</td>\n",
       "      <td>1.081437</td>\n",
       "      <td>-0.010334</td>\n",
       "      <td>0.736608</td>\n",
       "      <td>-0.344308</td>\n",
       "      <td>-0.126207</td>\n",
       "      <td>0.342812</td>\n",
       "      <td>0.157428</td>\n",
       "      <td>0.143988</td>\n",
       "    </tr>\n",
       "    <tr>\n",
       "      <th>4</th>\n",
       "      <td>-0.279155</td>\n",
       "      <td>-0.044119</td>\n",
       "      <td>2.053473</td>\n",
       "      <td>-0.448983</td>\n",
       "      <td>-0.264138</td>\n",
       "      <td>1.728925</td>\n",
       "      <td>-0.545968</td>\n",
       "      <td>0.565432</td>\n",
       "      <td>1.080615</td>\n",
       "      <td>-0.865548</td>\n",
       "      <td>...</td>\n",
       "      <td>0.105995</td>\n",
       "      <td>-0.089820</td>\n",
       "      <td>0.182072</td>\n",
       "      <td>-0.365608</td>\n",
       "      <td>-1.256854</td>\n",
       "      <td>0.064613</td>\n",
       "      <td>1.176098</td>\n",
       "      <td>0.024794</td>\n",
       "      <td>-0.001907</td>\n",
       "      <td>-0.066789</td>\n",
       "    </tr>\n",
       "  </tbody>\n",
       "</table>\n",
       "<p>5 rows × 29 columns</p>\n",
       "</div>"
      ],
      "text/plain": [
       "         V1        V2        V3        V4        V5        V6        V7  \\\n",
       "0  2.060595 -0.800830 -1.022627 -0.823464 -0.853588 -1.370926 -0.332048   \n",
       "1  1.344839 -1.278537  0.522994 -1.470681 -1.575902 -0.383679 -1.096722   \n",
       "2  0.036577  0.857407  0.301358 -0.580349  0.423443 -1.144374  0.994537   \n",
       "3 -0.756032  0.387262 -1.758907 -1.375359  2.790965  3.220127  0.056107   \n",
       "4 -0.279155 -0.044119  2.053473 -0.448983 -0.264138  1.728925 -0.545968   \n",
       "\n",
       "         V8        V9       V10  ...       V20       V21       V22       V23  \\\n",
       "0 -0.366907 -0.926808  1.000320  ...  0.098699  0.570817  1.583347 -0.002528   \n",
       "1 -0.023559 -1.974066  1.552463  ... -0.161566 -0.296573 -0.701976  0.063528   \n",
       "2 -0.206516 -0.043969 -0.407697  ... -0.039455 -0.259930 -0.569864  0.068311   \n",
       "3  1.281056 -0.385939 -0.604053  ...  0.202370  0.454641  1.081437 -0.010334   \n",
       "4  0.565432  1.080615 -0.865548  ...  0.105995 -0.089820  0.182072 -0.365608   \n",
       "\n",
       "        V24       V25       V26       V27       V28  scaled_amount  \n",
       "0  0.637096  0.098463  0.013673 -0.040759 -0.059892       0.108665  \n",
       "1 -0.058951  0.116915 -0.413950  0.024919  0.028485       0.280349  \n",
       "2  0.039827 -0.490446  0.137789  0.247474  0.097668      -0.204600  \n",
       "3  0.736608 -0.344308 -0.126207  0.342812  0.157428       0.143988  \n",
       "4 -1.256854  0.064613  1.176098  0.024794 -0.001907      -0.066789  \n",
       "\n",
       "[5 rows x 29 columns]"
      ]
     },
     "execution_count": 37,
     "metadata": {},
     "output_type": "execute_result"
    }
   ],
   "source": [
    "X_test_ada.head()"
   ]
  },
  {
   "cell_type": "markdown",
   "id": "f2f1e149",
   "metadata": {},
   "source": [
    "### Lets build the machine learning model "
   ]
  },
  {
   "cell_type": "code",
   "execution_count": 38,
   "id": "6183719d",
   "metadata": {},
   "outputs": [],
   "source": [
    "from sklearn.linear_model import LogisticRegression\n",
    "from sklearn.ensemble import RandomForestClassifier"
   ]
  },
  {
   "cell_type": "code",
   "execution_count": 39,
   "id": "f3cf7288",
   "metadata": {},
   "outputs": [],
   "source": [
    "from sklearn.model_selection import cross_val_score\n",
    "from sklearn.model_selection import StratifiedKFold"
   ]
  },
  {
   "cell_type": "markdown",
   "id": "f993233d",
   "metadata": {},
   "source": [
    "#### Due to the length of dataset we will using simple Random forest classifier & Logistic Regression without hyperparameter tuning"
   ]
  },
  {
   "cell_type": "code",
   "execution_count": 40,
   "id": "ae251bad",
   "metadata": {},
   "outputs": [],
   "source": [
    "classifiers1 =  RandomForestClassifier()"
   ]
  },
  {
   "cell_type": "code",
   "execution_count": 41,
   "id": "37287539",
   "metadata": {},
   "outputs": [
    {
     "data": {
      "text/plain": [
       "RandomForestClassifier()"
      ]
     },
     "execution_count": 41,
     "metadata": {},
     "output_type": "execute_result"
    }
   ],
   "source": [
    "skf = StratifiedKFold(n_splits=5)\n",
    "classifiers1.fit(X_train_ada, y_train_ada)"
   ]
  },
  {
   "cell_type": "code",
   "execution_count": 42,
   "id": "ee311f39",
   "metadata": {},
   "outputs": [
    {
     "name": "stdout",
     "output_type": "stream",
     "text": [
      "Classifiers:  96.0 % accuracy score\n"
     ]
    }
   ],
   "source": [
    "training_score = cross_val_score(classifiers1, X_train_ada, y_train_ada, cv=skf)\n",
    "print(\"Classifiers: \", round(training_score.mean(), 2) * 100, \"% accuracy score\")"
   ]
  },
  {
   "cell_type": "code",
   "execution_count": 43,
   "id": "cb8576da",
   "metadata": {},
   "outputs": [],
   "source": [
    "y_pred = classifiers1.predict(X_test_ada)"
   ]
  },
  {
   "cell_type": "code",
   "execution_count": 44,
   "id": "354c3ad2",
   "metadata": {},
   "outputs": [],
   "source": [
    "from sklearn.metrics import confusion_matrix, classification_report, accuracy_score, precision_score, recall_score, fbeta_score"
   ]
  },
  {
   "cell_type": "code",
   "execution_count": 45,
   "id": "aaca2144",
   "metadata": {},
   "outputs": [
    {
     "data": {
      "text/plain": [
       "array([[82535,    22],\n",
       "       [23501, 59042]], dtype=int64)"
      ]
     },
     "execution_count": 45,
     "metadata": {},
     "output_type": "execute_result"
    }
   ],
   "source": [
    "cm = confusion_matrix(y_test_ada, y_pred)\n",
    "cm"
   ]
  },
  {
   "cell_type": "code",
   "execution_count": 46,
   "id": "cd396484",
   "metadata": {},
   "outputs": [],
   "source": [
    "normal_ada_1 = len(y_test_ada[y_test_ada == 0])\n",
    "fraud_ada_1 = len(y_test_ada[y_test_ada == 1])"
   ]
  },
  {
   "cell_type": "code",
   "execution_count": 48,
   "id": "d5d29fba",
   "metadata": {},
   "outputs": [
    {
     "data": {
      "text/plain": [
       "(82557, 82543)"
      ]
     },
     "execution_count": 48,
     "metadata": {},
     "output_type": "execute_result"
    }
   ],
   "source": [
    "normal_ada_1, fraud_ada_1"
   ]
  },
  {
   "cell_type": "code",
   "execution_count": 49,
   "id": "ffda343f",
   "metadata": {},
   "outputs": [],
   "source": [
    "def print_confusion_matrix(y_true, y_pred):\n",
    "    cm = confusion_matrix(y_true, y_pred)\n",
    "    print('True negative = ', cm[0][0])\n",
    "    print('False negative = ', cm[1][0])\n",
    "    print('False positive = ', cm[0][1])\n",
    "    print('True positive = ', cm[1][1])"
   ]
  },
  {
   "cell_type": "code",
   "execution_count": 50,
   "id": "920fb25c",
   "metadata": {},
   "outputs": [
    {
     "data": {
      "image/png": "[encoded data removed]",
      "text/plain": [
       "<Figure size 640x480 with 2 Axes>"
      ]
     },
     "metadata": {},
     "output_type": "display_data"
    }
   ],
   "source": [
    "plt.title('Heatmap of Confusion Matrix for RF', fontsize = 15)\n",
    "sns.heatmap(cm, annot = True)\n",
    "plt.show()\n"
   ]
  },
  {
   "cell_type": "code",
   "execution_count": 52,
   "id": "3c89ef0f",
   "metadata": {},
   "outputs": [
    {
     "name": "stdout",
     "output_type": "stream",
     "text": [
      "              precision    recall  f1-score   support\n",
      "\n",
      "           0       0.78      1.00      0.88     82557\n",
      "           1       1.00      0.72      0.83     82543\n",
      "\n",
      "    accuracy                           0.86    165100\n",
      "   macro avg       0.89      0.86      0.85    165100\n",
      "weighted avg       0.89      0.86      0.85    165100\n",
      "\n"
     ]
    }
   ],
   "source": [
    "print(classification_report(y_test_ada, y_pred))"
   ]
  },
  {
   "cell_type": "code",
   "execution_count": 53,
   "id": "0ccc9872",
   "metadata": {},
   "outputs": [
    {
     "data": {
      "text/plain": [
       "0.8575227135069655"
      ]
     },
     "execution_count": 53,
     "metadata": {},
     "output_type": "execute_result"
    }
   ],
   "source": [
    "accuracy_score(y_test_ada, y_pred)"
   ]
  },
  {
   "cell_type": "code",
   "execution_count": 54,
   "id": "240d55b4",
   "metadata": {},
   "outputs": [
    {
     "data": {
      "text/plain": [
       "0.9996275226872545"
      ]
     },
     "execution_count": 54,
     "metadata": {},
     "output_type": "execute_result"
    }
   ],
   "source": [
    "precision_score(y_test_ada, y_pred)"
   ]
  },
  {
   "cell_type": "code",
   "execution_count": 55,
   "id": "b3a6e361",
   "metadata": {},
   "outputs": [
    {
     "data": {
      "text/plain": [
       "0.7152877893946186"
      ]
     },
     "execution_count": 55,
     "metadata": {},
     "output_type": "execute_result"
    }
   ],
   "source": [
    "recall_score(y_test_ada, y_pred)"
   ]
  },
  {
   "cell_type": "code",
   "execution_count": 56,
   "id": "8b7d13d5",
   "metadata": {},
   "outputs": [
    {
     "name": "stdout",
     "output_type": "stream",
     "text": [
      "True negative =  82535\n",
      "False negative =  23501\n",
      "False positive =  22\n",
      "True positive =  59042\n"
     ]
    }
   ],
   "source": [
    "print_confusion_matrix(y_test_ada, y_pred)"
   ]
  },
  {
   "cell_type": "code",
   "execution_count": 57,
   "id": "06291704",
   "metadata": {},
   "outputs": [
    {
     "data": {
      "text/plain": [
       "0.8338853305274456"
      ]
     },
     "execution_count": 57,
     "metadata": {},
     "output_type": "execute_result"
    }
   ],
   "source": [
    "fb_rf = fbeta_score(y_test_ada, y_pred, beta=1)\n",
    "fb_rf"
   ]
  },
  {
   "cell_type": "markdown",
   "id": "04ec06af",
   "metadata": {},
   "source": [
    "## Logistic Regression"
   ]
  },
  {
   "cell_type": "code",
   "execution_count": 58,
   "id": "89c68aec",
   "metadata": {},
   "outputs": [],
   "source": [
    "clf_lr = LogisticRegression()"
   ]
  },
  {
   "cell_type": "code",
   "execution_count": 59,
   "id": "c5c622fa",
   "metadata": {},
   "outputs": [
    {
     "data": {
      "text/plain": [
       "LogisticRegression()"
      ]
     },
     "execution_count": 59,
     "metadata": {},
     "output_type": "execute_result"
    }
   ],
   "source": [
    "skf = StratifiedKFold(n_splits=5)\n",
    "clf_lr.fit(X_train_ada, y_train_ada)"
   ]
  },
  {
   "cell_type": "code",
   "execution_count": 60,
   "id": "3474d1cd",
   "metadata": {},
   "outputs": [
    {
     "name": "stdout",
     "output_type": "stream",
     "text": [
      "Classifiers:  92.0 % accuracy score\n"
     ]
    }
   ],
   "source": [
    "training_score_lr = cross_val_score(clf_lr, X_train_ada, y_train_ada, cv=skf)\n",
    "print(\"Classifiers: \", round(training_score_lr.mean(), 2) * 100, \"% accuracy score\")"
   ]
  },
  {
   "cell_type": "code",
   "execution_count": 61,
   "id": "77fd1db4",
   "metadata": {},
   "outputs": [],
   "source": [
    "y_pred_lr = clf_lr.predict(X_test_ada)"
   ]
  },
  {
   "cell_type": "code",
   "execution_count": 78,
   "id": "dc88e151",
   "metadata": {},
   "outputs": [
    {
     "data": {
      "text/plain": [
       "array([[78610,  3947],\n",
       "       [ 7819, 74724]], dtype=int64)"
      ]
     },
     "execution_count": 78,
     "metadata": {},
     "output_type": "execute_result"
    }
   ],
   "source": [
    "cm_lr = confusion_matrix(y_test_ada, y_pred_lr)\n",
    "cm_lr"
   ]
  },
  {
   "cell_type": "code",
   "execution_count": 77,
   "id": "d9234fee",
   "metadata": {},
   "outputs": [
    {
     "data": {
      "image/png": "[encoded data removed]",
      "text/plain": [
       "<Figure size 640x480 with 2 Axes>"
      ]
     },
     "metadata": {},
     "output_type": "display_data"
    }
   ],
   "source": [
    "plt.title('Heatmap of Confusion Matrix for LogisticReg', fontsize = 15)\n",
    "sns.heatmap(cm_lr, annot = True)\n",
    "plt.show()"
   ]
  },
  {
   "cell_type": "code",
   "execution_count": 63,
   "id": "a1085006",
   "metadata": {},
   "outputs": [
    {
     "name": "stdout",
     "output_type": "stream",
     "text": [
      "True negative =  78610\n",
      "False negative =  7819\n",
      "False positive =  3947\n",
      "True positive =  74724\n"
     ]
    }
   ],
   "source": [
    "print_confusion_matrix(y_test_ada, y_pred_lr)"
   ]
  },
  {
   "cell_type": "code",
   "execution_count": 64,
   "id": "2e9fe1aa",
   "metadata": {},
   "outputs": [
    {
     "data": {
      "text/plain": [
       "0.9287341005451242"
      ]
     },
     "execution_count": 64,
     "metadata": {},
     "output_type": "execute_result"
    }
   ],
   "source": [
    "accuracy_score(y_test_ada,y_pred_lr)"
   ]
  },
  {
   "cell_type": "code",
   "execution_count": 65,
   "id": "c1a24561",
   "metadata": {},
   "outputs": [
    {
     "data": {
      "text/plain": [
       "0.9498290348413011"
      ]
     },
     "execution_count": 65,
     "metadata": {},
     "output_type": "execute_result"
    }
   ],
   "source": [
    "precision_score(y_test_ada,y_pred_lr)"
   ]
  },
  {
   "cell_type": "code",
   "execution_count": 66,
   "id": "28e5f54f",
   "metadata": {},
   "outputs": [
    {
     "data": {
      "text/plain": [
       "0.9052736149643216"
      ]
     },
     "execution_count": 66,
     "metadata": {},
     "output_type": "execute_result"
    }
   ],
   "source": [
    "recall_score(y_test_ada,y_pred_lr)"
   ]
  },
  {
   "cell_type": "code",
   "execution_count": 67,
   "id": "deb4ac19",
   "metadata": {},
   "outputs": [
    {
     "data": {
      "text/plain": [
       "0.9270162640961703"
      ]
     },
     "execution_count": 67,
     "metadata": {},
     "output_type": "execute_result"
    }
   ],
   "source": [
    "fb_lr = fbeta_score(y_test_ada, y_pred_lr, beta=1)\n",
    "fb_lr"
   ]
  },
  {
   "cell_type": "code",
   "execution_count": 70,
   "id": "7d3503f3",
   "metadata": {},
   "outputs": [
    {
     "data": {
      "image/png": "[encoded data removed]",
      "text/plain": [
       "<Figure size 640x480 with 1 Axes>"
      ]
     },
     "metadata": {},
     "output_type": "display_data"
    }
   ],
   "source": [
    "y_pred_proba = clf_lr.predict_proba(X_test_ada)[::,1]\n",
    "fpr, tpr, _ = metrics.roc_curve(y_test_ada,  y_pred_proba)\n",
    "auc = metrics.roc_auc_score(y_test_ada, y_pred_proba)\n",
    "plt.plot(fpr,tpr,label=\"data 1, auc=\"+str(auc))\n",
    "plt.legend(loc=4)\n",
    "plt.show()"
   ]
  },
  {
   "cell_type": "code",
   "execution_count": 71,
   "id": "3f67e19c",
   "metadata": {},
   "outputs": [],
   "source": [
    "import scikitplot as skplt #to make things easy\n"
   ]
  },
  {
   "cell_type": "code",
   "execution_count": 72,
   "id": "63fd10e8",
   "metadata": {},
   "outputs": [
    {
     "data": {
      "image/png": "[encoded data removed]",
      "text/plain": [
       "<Figure size 640x480 with 1 Axes>"
      ]
     },
     "metadata": {},
     "output_type": "display_data"
    }
   ],
   "source": [
    "y_pred_prob = clf_lr.predict_proba(X_test_ada)\n",
    "skplt.metrics.plot_roc_curve(y_test_ada, y_pred_prob)\n",
    "plt.show()"
   ]
  },
  {
   "cell_type": "markdown",
   "id": "7503969d",
   "metadata": {},
   "source": [
    "### Final Result"
   ]
  },
  {
   "cell_type": "code",
   "execution_count": 73,
   "id": "a09273f2",
   "metadata": {},
   "outputs": [
    {
     "name": "stdout",
     "output_type": "stream",
     "text": [
      "The best F1 score is 0.9270163 for Logistic Regression model.\n"
     ]
    }
   ],
   "source": [
    "list = [fb_lr,fb_rf]\n",
    "\n",
    "\n",
    "if (fb_lr == max(list)):\n",
    "    print('The best F1 score is {:.7f} for Logistic Regression model.'.format(fb_lr))\n",
    "else: \n",
    "    print('The best F1 score is {:.7f} for Random Forest model.'.format(fb_rf))"
   ]
  },
  {
   "cell_type": "code",
   "execution_count": 75,
   "id": "cbd663d0",
   "metadata": {},
   "outputs": [
    {
     "data": {
      "image/png": "[encoded data removed]",
      "text/plain": [
       "<Figure size 640x480 with 1 Axes>"
      ]
     },
     "metadata": {},
     "output_type": "display_data"
    }
   ],
   "source": [
    "#ROC Curve\n",
    "\n",
    "figure(figsize=(8, 6), dpi=80)\n",
    "from sklearn.metrics import roc_curve\n",
    "y_pred_prob1 = classifiers1.predict_proba(X_test_ada)[:,1]\n",
    "\n",
    "fpr1 , tpr1, thresholds1 = roc_curve(y_test_ada, y_pred_prob1)\n",
    "auc = round(metrics.roc_auc_score(y_test_ada, y_pred_prob1),7)\n",
    "\n",
    "y_pred_prob3 = clf_lr.predict_proba(X_test_ada)[:,1]\n",
    "fpr3 , tpr3, thresholds3 = roc_curve(y_test_ada, y_pred_prob3)\n",
    "auc3 = round(metrics.roc_auc_score(y_test_ada, y_pred_prob3),7)\n",
    "plt.plot([0,1],[0,1], 'k--')\n",
    "plt.plot(fpr1, tpr1, label= \"RF: \"+str(auc))\n",
    "# plt.plot(fpr2, tpr2, label= \"GNB: \"+str(auc2) )\n",
    "plt.plot(fpr3, tpr3, label= \"LR: \"+str(auc3))\n",
    "\n",
    "plt.legend(loc=4)\n",
    "plt.xlabel(\"FPR\")\n",
    "plt.ylabel(\"TPR\")\n",
    "plt.title('Receiver Operating Characteristic')\n",
    "plt.show()"
   ]
  },
  {
   "cell_type": "code",
   "execution_count": null,
   "id": "33ef11b1",
   "metadata": {},
   "outputs": [],
   "source": []
  },
  {
   "cell_type": "code",
   "execution_count": null,
   "id": "d82f83da",
   "metadata": {},
   "outputs": [],
   "source": []
  }
 ],
 "metadata": {
  "kernelspec": {
   "display_name": "Python 3",
   "language": "python",
   "name": "python3"
  },
  "language_info": {
   "codemirror_mode": {
    "name": "ipython",
    "version": 3
   },
   "file_extension": ".py",
   "mimetype": "text/x-python",
   "name": "python",
   "nbconvert_exporter": "python",
   "pygments_lexer": "ipython3",
   "version": "3.7.6"
  }
 },
 "nbformat": 4,
 "nbformat_minor": 5
}
