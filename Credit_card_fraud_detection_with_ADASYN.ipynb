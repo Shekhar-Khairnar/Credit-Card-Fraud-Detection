{
 "cells": [
  {
   "cell_type": "markdown",
   "id": "82b6970a",
   "metadata": {},
   "source": [
    "### DATASET link : https://www.kaggle.com/mlg-ulb/creditcardfraud/code?datasetId=310&sortBy=voteCount"
   ]
  },
  {
   "cell_type": "markdown",
   "id": "90649f36",
   "metadata": {},
   "source": [
    "# Credit Card Fraud Detection Using Machine Learning Algorithms"
   ]
  },
  {
   "cell_type": "markdown",
   "id": "97f38268",
   "metadata": {},
   "source": [
    "#### The goal of this project is to track the pattern of all the transactions and if any pattern is abnormal then the transaction should be classified as fraud."
   ]
  },
  {
   "cell_type": "markdown",
   "id": "ac1479b7",
   "metadata": {},
   "source": [
    "#### Import Required Libraries"
   ]
  },
  {
   "cell_type": "code",
   "execution_count": 1,
   "id": "4bbca195",
   "metadata": {},
   "outputs": [],
   "source": [
    "import numpy as np\n",
    "import pandas as pd\n",
    "import matplotlib.pyplot as plt\n",
    "import seaborn as sns\n",
    "import warnings\n",
    "warnings.filterwarnings(\"ignore\")\n",
    "from matplotlib.pyplot import figure\n",
    "import sklearn.metrics as metrics\n"
   ]
  },
  {
   "cell_type": "markdown",
   "id": "7c3ea5a3",
   "metadata": {},
   "source": [
    "#### Import CSV file"
   ]
  },
  {
   "cell_type": "code",
   "execution_count": 2,
   "id": "ecf5b30c",
   "metadata": {},
   "outputs": [],
   "source": [
    "dataset = pd.read_csv('creditcard.csv')"
   ]
  },
  {
   "cell_type": "code",
   "execution_count": 3,
   "id": "6fc4107f",
   "metadata": {},
   "outputs": [
    {
     "data": {
      "text/html": [
       "<div>\n",
       "<style scoped>\n",
       "    .dataframe tbody tr th:only-of-type {\n",
       "        vertical-align: middle;\n",
       "    }\n",
       "\n",
       "    .dataframe tbody tr th {\n",
       "        vertical-align: top;\n",
       "    }\n",
       "\n",
       "    .dataframe thead th {\n",
       "        text-align: right;\n",
       "    }\n",
       "</style>\n",
       "<table border=\"1\" class=\"dataframe\">\n",
       "  <thead>\n",
       "    <tr style=\"text-align: right;\">\n",
       "      <th></th>\n",
       "      <th>Time</th>\n",
       "      <th>V1</th>\n",
       "      <th>V2</th>\n",
       "      <th>V3</th>\n",
       "      <th>V4</th>\n",
       "      <th>V5</th>\n",
       "      <th>V6</th>\n",
       "      <th>V7</th>\n",
       "      <th>V8</th>\n",
       "      <th>V9</th>\n",
       "      <th>...</th>\n",
       "      <th>V21</th>\n",
       "      <th>V22</th>\n",
       "      <th>V23</th>\n",
       "      <th>V24</th>\n",
       "      <th>V25</th>\n",
       "      <th>V26</th>\n",
       "      <th>V27</th>\n",
       "      <th>V28</th>\n",
       "      <th>Amount</th>\n",
       "      <th>Class</th>\n",
       "    </tr>\n",
       "  </thead>\n",
       "  <tbody>\n",
       "    <tr>\n",
       "      <th>284802</th>\n",
       "      <td>172786.0</td>\n",
       "      <td>-11.881118</td>\n",
       "      <td>10.071785</td>\n",
       "      <td>-9.834783</td>\n",
       "      <td>-2.066656</td>\n",
       "      <td>-5.364473</td>\n",
       "      <td>-2.606837</td>\n",
       "      <td>-4.918215</td>\n",
       "      <td>7.305334</td>\n",
       "      <td>1.914428</td>\n",
       "      <td>...</td>\n",
       "      <td>0.213454</td>\n",
       "      <td>0.111864</td>\n",
       "      <td>1.014480</td>\n",
       "      <td>-0.509348</td>\n",
       "      <td>1.436807</td>\n",
       "      <td>0.250034</td>\n",
       "      <td>0.943651</td>\n",
       "      <td>0.823731</td>\n",
       "      <td>0.77</td>\n",
       "      <td>0</td>\n",
       "    </tr>\n",
       "    <tr>\n",
       "      <th>284803</th>\n",
       "      <td>172787.0</td>\n",
       "      <td>-0.732789</td>\n",
       "      <td>-0.055080</td>\n",
       "      <td>2.035030</td>\n",
       "      <td>-0.738589</td>\n",
       "      <td>0.868229</td>\n",
       "      <td>1.058415</td>\n",
       "      <td>0.024330</td>\n",
       "      <td>0.294869</td>\n",
       "      <td>0.584800</td>\n",
       "      <td>...</td>\n",
       "      <td>0.214205</td>\n",
       "      <td>0.924384</td>\n",
       "      <td>0.012463</td>\n",
       "      <td>-1.016226</td>\n",
       "      <td>-0.606624</td>\n",
       "      <td>-0.395255</td>\n",
       "      <td>0.068472</td>\n",
       "      <td>-0.053527</td>\n",
       "      <td>24.79</td>\n",
       "      <td>0</td>\n",
       "    </tr>\n",
       "    <tr>\n",
       "      <th>284804</th>\n",
       "      <td>172788.0</td>\n",
       "      <td>1.919565</td>\n",
       "      <td>-0.301254</td>\n",
       "      <td>-3.249640</td>\n",
       "      <td>-0.557828</td>\n",
       "      <td>2.630515</td>\n",
       "      <td>3.031260</td>\n",
       "      <td>-0.296827</td>\n",
       "      <td>0.708417</td>\n",
       "      <td>0.432454</td>\n",
       "      <td>...</td>\n",
       "      <td>0.232045</td>\n",
       "      <td>0.578229</td>\n",
       "      <td>-0.037501</td>\n",
       "      <td>0.640134</td>\n",
       "      <td>0.265745</td>\n",
       "      <td>-0.087371</td>\n",
       "      <td>0.004455</td>\n",
       "      <td>-0.026561</td>\n",
       "      <td>67.88</td>\n",
       "      <td>0</td>\n",
       "    </tr>\n",
       "    <tr>\n",
       "      <th>284805</th>\n",
       "      <td>172788.0</td>\n",
       "      <td>-0.240440</td>\n",
       "      <td>0.530483</td>\n",
       "      <td>0.702510</td>\n",
       "      <td>0.689799</td>\n",
       "      <td>-0.377961</td>\n",
       "      <td>0.623708</td>\n",
       "      <td>-0.686180</td>\n",
       "      <td>0.679145</td>\n",
       "      <td>0.392087</td>\n",
       "      <td>...</td>\n",
       "      <td>0.265245</td>\n",
       "      <td>0.800049</td>\n",
       "      <td>-0.163298</td>\n",
       "      <td>0.123205</td>\n",
       "      <td>-0.569159</td>\n",
       "      <td>0.546668</td>\n",
       "      <td>0.108821</td>\n",
       "      <td>0.104533</td>\n",
       "      <td>10.00</td>\n",
       "      <td>0</td>\n",
       "    </tr>\n",
       "    <tr>\n",
       "      <th>284806</th>\n",
       "      <td>172792.0</td>\n",
       "      <td>-0.533413</td>\n",
       "      <td>-0.189733</td>\n",
       "      <td>0.703337</td>\n",
       "      <td>-0.506271</td>\n",
       "      <td>-0.012546</td>\n",
       "      <td>-0.649617</td>\n",
       "      <td>1.577006</td>\n",
       "      <td>-0.414650</td>\n",
       "      <td>0.486180</td>\n",
       "      <td>...</td>\n",
       "      <td>0.261057</td>\n",
       "      <td>0.643078</td>\n",
       "      <td>0.376777</td>\n",
       "      <td>0.008797</td>\n",
       "      <td>-0.473649</td>\n",
       "      <td>-0.818267</td>\n",
       "      <td>-0.002415</td>\n",
       "      <td>0.013649</td>\n",
       "      <td>217.00</td>\n",
       "      <td>0</td>\n",
       "    </tr>\n",
       "  </tbody>\n",
       "</table>\n",
       "<p>5 rows × 31 columns</p>\n",
       "</div>"
      ],
      "text/plain": [
       "            Time         V1         V2        V3        V4        V5  \\\n",
       "284802  172786.0 -11.881118  10.071785 -9.834783 -2.066656 -5.364473   \n",
       "284803  172787.0  -0.732789  -0.055080  2.035030 -0.738589  0.868229   \n",
       "284804  172788.0   1.919565  -0.301254 -3.249640 -0.557828  2.630515   \n",
       "284805  172788.0  -0.240440   0.530483  0.702510  0.689799 -0.377961   \n",
       "284806  172792.0  -0.533413  -0.189733  0.703337 -0.506271 -0.012546   \n",
       "\n",
       "              V6        V7        V8        V9  ...       V21       V22  \\\n",
       "284802 -2.606837 -4.918215  7.305334  1.914428  ...  0.213454  0.111864   \n",
       "284803  1.058415  0.024330  0.294869  0.584800  ...  0.214205  0.924384   \n",
       "284804  3.031260 -0.296827  0.708417  0.432454  ...  0.232045  0.578229   \n",
       "284805  0.623708 -0.686180  0.679145  0.392087  ...  0.265245  0.800049   \n",
       "284806 -0.649617  1.577006 -0.414650  0.486180  ...  0.261057  0.643078   \n",
       "\n",
       "             V23       V24       V25       V26       V27       V28  Amount  \\\n",
       "284802  1.014480 -0.509348  1.436807  0.250034  0.943651  0.823731    0.77   \n",
       "284803  0.012463 -1.016226 -0.606624 -0.395255  0.068472 -0.053527   24.79   \n",
       "284804 -0.037501  0.640134  0.265745 -0.087371  0.004455 -0.026561   67.88   \n",
       "284805 -0.163298  0.123205 -0.569159  0.546668  0.108821  0.104533   10.00   \n",
       "284806  0.376777  0.008797 -0.473649 -0.818267 -0.002415  0.013649  217.00   \n",
       "\n",
       "        Class  \n",
       "284802      0  \n",
       "284803      0  \n",
       "284804      0  \n",
       "284805      0  \n",
       "284806      0  \n",
       "\n",
       "[5 rows x 31 columns]"
      ]
     },
     "execution_count": 3,
     "metadata": {},
     "output_type": "execute_result"
    }
   ],
   "source": [
    "dataset.tail()"
   ]
  },
  {
   "cell_type": "code",
   "execution_count": 4,
   "id": "c6de93c4",
   "metadata": {},
   "outputs": [],
   "source": [
    "dataset.drop('Time',inplace=True,axis = 1)"
   ]
  },
  {
   "cell_type": "code",
   "execution_count": 5,
   "id": "258806d1",
   "metadata": {},
   "outputs": [
    {
     "data": {
      "text/plain": [
       "(284807, 30)"
      ]
     },
     "execution_count": 5,
     "metadata": {},
     "output_type": "execute_result"
    }
   ],
   "source": [
    "# check the shape of dataset\n",
    "dataset.shape"
   ]
  },
  {
   "cell_type": "markdown",
   "id": "c0039341",
   "metadata": {},
   "source": [
    "so we have a total of 284807 transaction    "
   ]
  },
  {
   "cell_type": "markdown",
   "id": "a0690945",
   "metadata": {},
   "source": [
    "lets check for nan values"
   ]
  },
  {
   "cell_type": "code",
   "execution_count": 6,
   "id": "8fed5926",
   "metadata": {},
   "outputs": [],
   "source": [
    "dataset = dataset.dropna()"
   ]
  },
  {
   "cell_type": "code",
   "execution_count": 7,
   "id": "1f9c3bd0",
   "metadata": {},
   "outputs": [
    {
     "data": {
      "text/plain": [
       "(284807, 30)"
      ]
     },
     "execution_count": 7,
     "metadata": {},
     "output_type": "execute_result"
    }
   ],
   "source": [
    "dataset.shape"
   ]
  },
  {
   "cell_type": "markdown",
   "id": "0bf094ea",
   "metadata": {},
   "source": [
    "Thus we can see no data has been dropped"
   ]
  },
  {
   "cell_type": "markdown",
   "id": "206e60ff",
   "metadata": {},
   "source": [
    "##### we need to check for any duplicate transaction taking place and remove it if present to bring down the runtime of the model."
   ]
  },
  {
   "cell_type": "code",
   "execution_count": 8,
   "id": "c0d4b872",
   "metadata": {},
   "outputs": [],
   "source": [
    "dataset.drop_duplicates(inplace=True)"
   ]
  },
  {
   "cell_type": "code",
   "execution_count": 9,
   "id": "c9bef60e",
   "metadata": {},
   "outputs": [
    {
     "data": {
      "text/plain": [
       "(275663, 30)"
      ]
     },
     "execution_count": 9,
     "metadata": {},
     "output_type": "execute_result"
    }
   ],
   "source": [
    "dataset.shape"
   ]
  },
  {
   "cell_type": "code",
   "execution_count": 10,
   "id": "4ac321ee",
   "metadata": {},
   "outputs": [
    {
     "data": {
      "text/plain": [
       "9144"
      ]
     },
     "execution_count": 10,
     "metadata": {},
     "output_type": "execute_result"
    }
   ],
   "source": [
    "284807-275663"
   ]
  },
  {
   "cell_type": "markdown",
   "id": "84e6e119",
   "metadata": {},
   "source": [
    "Thus we removed 9144 duplicates form the dataset."
   ]
  },
  {
   "cell_type": "code",
   "execution_count": 11,
   "id": "cbea821d",
   "metadata": {},
   "outputs": [
    {
     "data": {
      "text/plain": [
       "<AxesSubplot:>"
      ]
     },
     "execution_count": 11,
     "metadata": {},
     "output_type": "execute_result"
    },
    {
     "data": {
      "image/png": "[encoded data removed]",
      "text/plain": [
       "<Figure size 432x288 with 1 Axes>"
      ]
     },
     "metadata": {
      "needs_background": "light"
     },
     "output_type": "display_data"
    }
   ],
   "source": [
    "dataset.boxplot(figsize= (15,15))"
   ]
  },
  {
   "cell_type": "code",
   "execution_count": 12,
   "id": "338f8d80",
   "metadata": {},
   "outputs": [
    {
     "data": {
      "image/png": "[encoded data removed]",
      "text/plain": [
       "<Figure size 640x480 with 1 Axes>"
      ]
     },
     "metadata": {},
     "output_type": "display_data"
    }
   ],
   "source": [
    "sns.countplot('Class',data = dataset);"
   ]
  },
  {
   "cell_type": "code",
   "execution_count": 13,
   "id": "6c81ef3c",
   "metadata": {},
   "outputs": [],
   "source": [
    "# lets check for number of normal and fraud transaction\n",
    "fraud = len(dataset[dataset['Class'] == 1])\n",
    "normal = len(dataset[dataset['Class'] == 0])\n",
    "percent_normal = normal/len(dataset)*100\n",
    "percent_fraud = fraud/len(dataset)*100"
   ]
  },
  {
   "cell_type": "code",
   "execution_count": 14,
   "id": "eb719280",
   "metadata": {},
   "outputs": [
    {
     "name": "stdout",
     "output_type": "stream",
     "text": [
      "Number of Fraud Transactions are: 473\n",
      "Number of Normal Transactions are: 275190\n",
      " \n",
      "Percentage of Fraud Transactions are: 0.17%\n",
      "Percentage of Normal Transactions are: 99.83%\n"
     ]
    }
   ],
   "source": [
    "print('Number of Fraud Transactions are: {}'.format(fraud))\n",
    "print('Number of Normal Transactions are: {}'.format(normal))\n",
    "print(' ')\n",
    "print('Percentage of Fraud Transactions are: {:.2f}%'.format(percent_fraud))\n",
    "print('Percentage of Normal Transactions are: {:.2f}%'.format(percent_normal))\n"
   ]
  },
  {
   "cell_type": "code",
   "execution_count": 15,
   "id": "ec1c2c90",
   "metadata": {},
   "outputs": [],
   "source": [
    "X = dataset.drop(['Class'],axis=1)\n",
    "y = dataset['Class']"
   ]
  },
  {
   "cell_type": "code",
   "execution_count": 16,
   "id": "4f18cd49",
   "metadata": {},
   "outputs": [
    {
     "data": {
      "text/plain": [
       "0    0\n",
       "1    0\n",
       "2    0\n",
       "3    0\n",
       "4    0\n",
       "Name: Class, dtype: int64"
      ]
     },
     "execution_count": 16,
     "metadata": {},
     "output_type": "execute_result"
    }
   ],
   "source": [
    "y.head()"
   ]
  },
  {
   "cell_type": "code",
   "execution_count": 17,
   "id": "19577db4",
   "metadata": {},
   "outputs": [],
   "source": [
    "# Since we have imbalanced Dataset we need to balance it for the model\n",
    "# we will be using Adasyn method to balance the dataset"
   ]
  },
  {
   "cell_type": "code",
   "execution_count": 18,
   "id": "7ce99d34",
   "metadata": {},
   "outputs": [],
   "source": [
    "#pip install -U imbalanced-learn"
   ]
  },
  {
   "cell_type": "code",
   "execution_count": 19,
   "id": "8bf59f9a",
   "metadata": {},
   "outputs": [],
   "source": [
    "from collections import Counter\n",
    "from sklearn.datasets import make_classification\n",
    "from imblearn.over_sampling import ADASYN "
   ]
  },
  {
   "cell_type": "code",
   "execution_count": 20,
   "id": "273b3ddf",
   "metadata": {},
   "outputs": [
    {
     "name": "stdout",
     "output_type": "stream",
     "text": [
      "Original dataset shape Counter({0: 275190, 1: 473})\n",
      "Resampled dataset shape Counter({0: 275190, 1: 275153})\n"
     ]
    }
   ],
   "source": [
    "# X, y = make_classification(n_classes=2, class_sep=2,\n",
    "# weights=[0.1, 0.9], n_informative=3, n_redundant=1, flip_y=0,\n",
    "# n_features=20, n_clusters_per_class=1, n_samples=1000,\n",
    "# random_state=10)\n",
    "print('Original dataset shape {}'.format(Counter(y)))\n",
    "\n",
    "ada = ADASYN(random_state=42)\n",
    "X_res, y_res = ada.fit_resample(X, y)\n",
    "print('Resampled dataset shape {}'.format(Counter(y_res)))\n"
   ]
  },
  {
   "cell_type": "code",
   "execution_count": 21,
   "id": "a056237e",
   "metadata": {},
   "outputs": [
    {
     "data": {
      "text/plain": [
       "(550343, 29)"
      ]
     },
     "execution_count": 21,
     "metadata": {},
     "output_type": "execute_result"
    }
   ],
   "source": [
    "X_res.shape"
   ]
  },
  {
   "cell_type": "code",
   "execution_count": 22,
   "id": "26271481",
   "metadata": {},
   "outputs": [
    {
     "data": {
      "text/plain": [
       "(550343,)"
      ]
     },
     "execution_count": 22,
     "metadata": {},
     "output_type": "execute_result"
    }
   ],
   "source": [
    "y_res.shape"
   ]
  },
  {
   "cell_type": "markdown",
   "id": "ffbc3532",
   "metadata": {},
   "source": [
    "#### now lets do the train test split"
   ]
  },
  {
   "cell_type": "code",
   "execution_count": 23,
   "id": "9e76ce77",
   "metadata": {},
   "outputs": [],
   "source": [
    "from sklearn.model_selection import train_test_split\n",
    "X_train, X_test, y_train, y_test = train_test_split(X_res, y_res, test_size=0.3, random_state=42,stratify= y_res)"
   ]
  },
  {
   "cell_type": "code",
   "execution_count": 24,
   "id": "e5bbbdae",
   "metadata": {},
   "outputs": [],
   "source": [
    "normal_res = len(y_train[y_train == 0])\n",
    "fraud_res = len(y_train[y_train == 1])"
   ]
  },
  {
   "cell_type": "code",
   "execution_count": 25,
   "id": "27cd1f44",
   "metadata": {},
   "outputs": [
    {
     "name": "stdout",
     "output_type": "stream",
     "text": [
      "Number of normal transaction in y_train are: 192633\n",
      "Number of fraud transaction in y_train are: 192607\n"
     ]
    }
   ],
   "source": [
    "print('Number of normal transaction in y_train are: {}'.format(normal_res))\n",
    "print('Number of fraud transaction in y_train are: {}'.format(fraud_res))"
   ]
  },
  {
   "cell_type": "markdown",
   "id": "5a013d09",
   "metadata": {},
   "source": [
    "#### thus we can see both the class type are equally distributed in the y_train set"
   ]
  },
  {
   "cell_type": "code",
   "execution_count": 26,
   "id": "11ec22e2",
   "metadata": {},
   "outputs": [],
   "source": [
    "# since most of our columns are scaled we need to scale the amount variable\n",
    "\n",
    "# We will use RobustScaler as it is less prone to outliers since it uses median to scale the data and median is not affected by outliers(inshort it preserves the outliers) \n",
    "# and in case of standardscaler it uses mean to scale the data.\n",
    "\n",
    "from sklearn.preprocessing import RobustScaler\n",
    "rob_scaler = RobustScaler()"
   ]
  },
  {
   "cell_type": "code",
   "execution_count": 27,
   "id": "a326022e",
   "metadata": {},
   "outputs": [],
   "source": [
    "X_train['scaled_amount'] = rob_scaler.fit_transform(X_train['Amount'].values.reshape(-1,1))\n",
    "X_test['scaled_amount'] = rob_scaler.transform(X_test['Amount'].values.reshape(-1,1))"
   ]
  },
  {
   "cell_type": "code",
   "execution_count": 28,
   "id": "c5c042a2",
   "metadata": {},
   "outputs": [],
   "source": [
    "X_test.drop(['Amount'], axis=1, inplace=True)\n",
    "X_train.drop(['Amount'], axis=1, inplace=True)"
   ]
  },
  {
   "cell_type": "code",
   "execution_count": 29,
   "id": "b5692c9a",
   "metadata": {},
   "outputs": [
    {
     "data": {
      "text/html": [
       "<div>\n",
       "<style scoped>\n",
       "    .dataframe tbody tr th:only-of-type {\n",
       "        vertical-align: middle;\n",
       "    }\n",
       "\n",
       "    .dataframe tbody tr th {\n",
       "        vertical-align: top;\n",
       "    }\n",
       "\n",
       "    .dataframe thead th {\n",
       "        text-align: right;\n",
       "    }\n",
       "</style>\n",
       "<table border=\"1\" class=\"dataframe\">\n",
       "  <thead>\n",
       "    <tr style=\"text-align: right;\">\n",
       "      <th></th>\n",
       "      <th>V1</th>\n",
       "      <th>V2</th>\n",
       "      <th>V3</th>\n",
       "      <th>V4</th>\n",
       "      <th>V5</th>\n",
       "      <th>V6</th>\n",
       "      <th>V7</th>\n",
       "      <th>V8</th>\n",
       "      <th>V9</th>\n",
       "      <th>V10</th>\n",
       "      <th>...</th>\n",
       "      <th>V20</th>\n",
       "      <th>V21</th>\n",
       "      <th>V22</th>\n",
       "      <th>V23</th>\n",
       "      <th>V24</th>\n",
       "      <th>V25</th>\n",
       "      <th>V26</th>\n",
       "      <th>V27</th>\n",
       "      <th>V28</th>\n",
       "      <th>scaled_amount</th>\n",
       "    </tr>\n",
       "  </thead>\n",
       "  <tbody>\n",
       "    <tr>\n",
       "      <th>44317</th>\n",
       "      <td>0.772709</td>\n",
       "      <td>-1.025386</td>\n",
       "      <td>0.929081</td>\n",
       "      <td>0.169100</td>\n",
       "      <td>-0.948135</td>\n",
       "      <td>0.925256</td>\n",
       "      <td>-0.712387</td>\n",
       "      <td>0.447821</td>\n",
       "      <td>0.949021</td>\n",
       "      <td>-0.440317</td>\n",
       "      <td>...</td>\n",
       "      <td>0.180819</td>\n",
       "      <td>-0.031582</td>\n",
       "      <td>-0.167645</td>\n",
       "      <td>-0.010323</td>\n",
       "      <td>-0.210027</td>\n",
       "      <td>-0.106996</td>\n",
       "      <td>0.968217</td>\n",
       "      <td>-0.035685</td>\n",
       "      <td>0.024674</td>\n",
       "      <td>0.781763</td>\n",
       "    </tr>\n",
       "    <tr>\n",
       "      <th>338860</th>\n",
       "      <td>1.069694</td>\n",
       "      <td>0.414037</td>\n",
       "      <td>0.835694</td>\n",
       "      <td>2.686716</td>\n",
       "      <td>-0.150728</td>\n",
       "      <td>0.469888</td>\n",
       "      <td>-0.269941</td>\n",
       "      <td>0.271835</td>\n",
       "      <td>-0.412157</td>\n",
       "      <td>0.404350</td>\n",
       "      <td>...</td>\n",
       "      <td>-0.179277</td>\n",
       "      <td>-0.131110</td>\n",
       "      <td>-0.194169</td>\n",
       "      <td>0.005442</td>\n",
       "      <td>0.099343</td>\n",
       "      <td>0.409446</td>\n",
       "      <td>-0.029727</td>\n",
       "      <td>0.031361</td>\n",
       "      <td>0.024165</td>\n",
       "      <td>-0.188717</td>\n",
       "    </tr>\n",
       "    <tr>\n",
       "      <th>222199</th>\n",
       "      <td>-2.574795</td>\n",
       "      <td>-4.661964</td>\n",
       "      <td>1.170258</td>\n",
       "      <td>0.687780</td>\n",
       "      <td>2.734087</td>\n",
       "      <td>-1.935902</td>\n",
       "      <td>-3.118427</td>\n",
       "      <td>0.653686</td>\n",
       "      <td>-0.053852</td>\n",
       "      <td>0.895734</td>\n",
       "      <td>...</td>\n",
       "      <td>0.607934</td>\n",
       "      <td>0.567670</td>\n",
       "      <td>0.911813</td>\n",
       "      <td>1.354200</td>\n",
       "      <td>-0.490171</td>\n",
       "      <td>-2.100024</td>\n",
       "      <td>-0.948017</td>\n",
       "      <td>0.322527</td>\n",
       "      <td>0.474674</td>\n",
       "      <td>0.473540</td>\n",
       "    </tr>\n",
       "    <tr>\n",
       "      <th>172293</th>\n",
       "      <td>-0.278091</td>\n",
       "      <td>0.780809</td>\n",
       "      <td>-1.671187</td>\n",
       "      <td>-1.656611</td>\n",
       "      <td>3.299292</td>\n",
       "      <td>3.069026</td>\n",
       "      <td>0.325818</td>\n",
       "      <td>0.835062</td>\n",
       "      <td>-0.320507</td>\n",
       "      <td>-0.684068</td>\n",
       "      <td>...</td>\n",
       "      <td>0.057393</td>\n",
       "      <td>0.188760</td>\n",
       "      <td>0.561639</td>\n",
       "      <td>-0.278189</td>\n",
       "      <td>0.664895</td>\n",
       "      <td>0.040831</td>\n",
       "      <td>0.661513</td>\n",
       "      <td>0.151824</td>\n",
       "      <td>0.105088</td>\n",
       "      <td>-0.178080</td>\n",
       "    </tr>\n",
       "    <tr>\n",
       "      <th>396026</th>\n",
       "      <td>-0.712121</td>\n",
       "      <td>0.426156</td>\n",
       "      <td>-0.536057</td>\n",
       "      <td>-0.473351</td>\n",
       "      <td>0.633297</td>\n",
       "      <td>0.705702</td>\n",
       "      <td>-1.233379</td>\n",
       "      <td>-2.530466</td>\n",
       "      <td>-2.042679</td>\n",
       "      <td>0.167478</td>\n",
       "      <td>...</td>\n",
       "      <td>0.858044</td>\n",
       "      <td>-0.994728</td>\n",
       "      <td>1.147854</td>\n",
       "      <td>-0.150243</td>\n",
       "      <td>-1.371209</td>\n",
       "      <td>0.003140</td>\n",
       "      <td>0.216353</td>\n",
       "      <td>-0.057642</td>\n",
       "      <td>0.156686</td>\n",
       "      <td>-0.022474</td>\n",
       "    </tr>\n",
       "  </tbody>\n",
       "</table>\n",
       "<p>5 rows × 29 columns</p>\n",
       "</div>"
      ],
      "text/plain": [
       "              V1        V2        V3        V4        V5        V6        V7  \\\n",
       "44317   0.772709 -1.025386  0.929081  0.169100 -0.948135  0.925256 -0.712387   \n",
       "338860  1.069694  0.414037  0.835694  2.686716 -0.150728  0.469888 -0.269941   \n",
       "222199 -2.574795 -4.661964  1.170258  0.687780  2.734087 -1.935902 -3.118427   \n",
       "172293 -0.278091  0.780809 -1.671187 -1.656611  3.299292  3.069026  0.325818   \n",
       "396026 -0.712121  0.426156 -0.536057 -0.473351  0.633297  0.705702 -1.233379   \n",
       "\n",
       "              V8        V9       V10  ...       V20       V21       V22  \\\n",
       "44317   0.447821  0.949021 -0.440317  ...  0.180819 -0.031582 -0.167645   \n",
       "338860  0.271835 -0.412157  0.404350  ... -0.179277 -0.131110 -0.194169   \n",
       "222199  0.653686 -0.053852  0.895734  ...  0.607934  0.567670  0.911813   \n",
       "172293  0.835062 -0.320507 -0.684068  ...  0.057393  0.188760  0.561639   \n",
       "396026 -2.530466 -2.042679  0.167478  ...  0.858044 -0.994728  1.147854   \n",
       "\n",
       "             V23       V24       V25       V26       V27       V28  \\\n",
       "44317  -0.010323 -0.210027 -0.106996  0.968217 -0.035685  0.024674   \n",
       "338860  0.005442  0.099343  0.409446 -0.029727  0.031361  0.024165   \n",
       "222199  1.354200 -0.490171 -2.100024 -0.948017  0.322527  0.474674   \n",
       "172293 -0.278189  0.664895  0.040831  0.661513  0.151824  0.105088   \n",
       "396026 -0.150243 -1.371209  0.003140  0.216353 -0.057642  0.156686   \n",
       "\n",
       "        scaled_amount  \n",
       "44317        0.781763  \n",
       "338860      -0.188717  \n",
       "222199       0.473540  \n",
       "172293      -0.178080  \n",
       "396026      -0.022474  \n",
       "\n",
       "[5 rows x 29 columns]"
      ]
     },
     "execution_count": 29,
     "metadata": {},
     "output_type": "execute_result"
    }
   ],
   "source": [
    "X_train.head()"
   ]
  },
  {
   "cell_type": "code",
   "execution_count": 30,
   "id": "32d8885d",
   "metadata": {},
   "outputs": [
    {
     "data": {
      "text/html": [
       "<div>\n",
       "<style scoped>\n",
       "    .dataframe tbody tr th:only-of-type {\n",
       "        vertical-align: middle;\n",
       "    }\n",
       "\n",
       "    .dataframe tbody tr th {\n",
       "        vertical-align: top;\n",
       "    }\n",
       "\n",
       "    .dataframe thead th {\n",
       "        text-align: right;\n",
       "    }\n",
       "</style>\n",
       "<table border=\"1\" class=\"dataframe\">\n",
       "  <thead>\n",
       "    <tr style=\"text-align: right;\">\n",
       "      <th></th>\n",
       "      <th>V1</th>\n",
       "      <th>V2</th>\n",
       "      <th>V3</th>\n",
       "      <th>V4</th>\n",
       "      <th>V5</th>\n",
       "      <th>V6</th>\n",
       "      <th>V7</th>\n",
       "      <th>V8</th>\n",
       "      <th>V9</th>\n",
       "      <th>V10</th>\n",
       "      <th>...</th>\n",
       "      <th>V20</th>\n",
       "      <th>V21</th>\n",
       "      <th>V22</th>\n",
       "      <th>V23</th>\n",
       "      <th>V24</th>\n",
       "      <th>V25</th>\n",
       "      <th>V26</th>\n",
       "      <th>V27</th>\n",
       "      <th>V28</th>\n",
       "      <th>scaled_amount</th>\n",
       "    </tr>\n",
       "  </thead>\n",
       "  <tbody>\n",
       "    <tr>\n",
       "      <th>366679</th>\n",
       "      <td>1.094302</td>\n",
       "      <td>1.014509</td>\n",
       "      <td>-0.489611</td>\n",
       "      <td>2.722429</td>\n",
       "      <td>0.590799</td>\n",
       "      <td>-0.296853</td>\n",
       "      <td>0.126198</td>\n",
       "      <td>0.159736</td>\n",
       "      <td>-1.021433</td>\n",
       "      <td>-0.248415</td>\n",
       "      <td>...</td>\n",
       "      <td>-0.162205</td>\n",
       "      <td>-0.057717</td>\n",
       "      <td>-0.200627</td>\n",
       "      <td>-0.071817</td>\n",
       "      <td>-0.201100</td>\n",
       "      <td>0.437515</td>\n",
       "      <td>0.063724</td>\n",
       "      <td>0.023372</td>\n",
       "      <td>0.063353</td>\n",
       "      <td>-0.189660</td>\n",
       "    </tr>\n",
       "    <tr>\n",
       "      <th>491377</th>\n",
       "      <td>1.003185</td>\n",
       "      <td>0.751716</td>\n",
       "      <td>-0.044731</td>\n",
       "      <td>1.567057</td>\n",
       "      <td>0.706165</td>\n",
       "      <td>-0.206609</td>\n",
       "      <td>0.555509</td>\n",
       "      <td>-0.179316</td>\n",
       "      <td>-0.644470</td>\n",
       "      <td>0.304480</td>\n",
       "      <td>...</td>\n",
       "      <td>-0.111751</td>\n",
       "      <td>-0.036017</td>\n",
       "      <td>-0.013421</td>\n",
       "      <td>-0.060858</td>\n",
       "      <td>-0.146153</td>\n",
       "      <td>0.183482</td>\n",
       "      <td>-0.339893</td>\n",
       "      <td>0.053561</td>\n",
       "      <td>0.046590</td>\n",
       "      <td>-0.191954</td>\n",
       "    </tr>\n",
       "    <tr>\n",
       "      <th>398986</th>\n",
       "      <td>-1.081976</td>\n",
       "      <td>1.098430</td>\n",
       "      <td>-0.291730</td>\n",
       "      <td>1.356158</td>\n",
       "      <td>1.776910</td>\n",
       "      <td>-2.111472</td>\n",
       "      <td>0.513282</td>\n",
       "      <td>-0.096488</td>\n",
       "      <td>-0.156827</td>\n",
       "      <td>-2.509903</td>\n",
       "      <td>...</td>\n",
       "      <td>-0.171462</td>\n",
       "      <td>-0.335956</td>\n",
       "      <td>-0.839138</td>\n",
       "      <td>-0.350678</td>\n",
       "      <td>0.244728</td>\n",
       "      <td>0.465507</td>\n",
       "      <td>-0.504183</td>\n",
       "      <td>0.009518</td>\n",
       "      <td>0.134755</td>\n",
       "      <td>-0.190600</td>\n",
       "    </tr>\n",
       "    <tr>\n",
       "      <th>247110</th>\n",
       "      <td>-0.337873</td>\n",
       "      <td>-0.978218</td>\n",
       "      <td>0.876708</td>\n",
       "      <td>-2.555642</td>\n",
       "      <td>-0.111509</td>\n",
       "      <td>-0.554171</td>\n",
       "      <td>-0.533899</td>\n",
       "      <td>-0.020514</td>\n",
       "      <td>-1.868679</td>\n",
       "      <td>0.782140</td>\n",
       "      <td>...</td>\n",
       "      <td>-0.213691</td>\n",
       "      <td>-0.081995</td>\n",
       "      <td>0.049199</td>\n",
       "      <td>-0.088177</td>\n",
       "      <td>-0.810271</td>\n",
       "      <td>-0.242932</td>\n",
       "      <td>-0.149331</td>\n",
       "      <td>0.142944</td>\n",
       "      <td>0.156400</td>\n",
       "      <td>-0.056666</td>\n",
       "    </tr>\n",
       "    <tr>\n",
       "      <th>402242</th>\n",
       "      <td>0.097301</td>\n",
       "      <td>1.350773</td>\n",
       "      <td>-1.013020</td>\n",
       "      <td>2.018325</td>\n",
       "      <td>1.667562</td>\n",
       "      <td>-0.682696</td>\n",
       "      <td>0.420174</td>\n",
       "      <td>0.063537</td>\n",
       "      <td>-0.298347</td>\n",
       "      <td>-2.191639</td>\n",
       "      <td>...</td>\n",
       "      <td>0.173418</td>\n",
       "      <td>-0.335607</td>\n",
       "      <td>-0.742113</td>\n",
       "      <td>-0.222923</td>\n",
       "      <td>-0.915267</td>\n",
       "      <td>0.381526</td>\n",
       "      <td>-0.201142</td>\n",
       "      <td>0.108193</td>\n",
       "      <td>0.107448</td>\n",
       "      <td>-0.190600</td>\n",
       "    </tr>\n",
       "  </tbody>\n",
       "</table>\n",
       "<p>5 rows × 29 columns</p>\n",
       "</div>"
      ],
      "text/plain": [
       "              V1        V2        V3        V4        V5        V6        V7  \\\n",
       "366679  1.094302  1.014509 -0.489611  2.722429  0.590799 -0.296853  0.126198   \n",
       "491377  1.003185  0.751716 -0.044731  1.567057  0.706165 -0.206609  0.555509   \n",
       "398986 -1.081976  1.098430 -0.291730  1.356158  1.776910 -2.111472  0.513282   \n",
       "247110 -0.337873 -0.978218  0.876708 -2.555642 -0.111509 -0.554171 -0.533899   \n",
       "402242  0.097301  1.350773 -1.013020  2.018325  1.667562 -0.682696  0.420174   \n",
       "\n",
       "              V8        V9       V10  ...       V20       V21       V22  \\\n",
       "366679  0.159736 -1.021433 -0.248415  ... -0.162205 -0.057717 -0.200627   \n",
       "491377 -0.179316 -0.644470  0.304480  ... -0.111751 -0.036017 -0.013421   \n",
       "398986 -0.096488 -0.156827 -2.509903  ... -0.171462 -0.335956 -0.839138   \n",
       "247110 -0.020514 -1.868679  0.782140  ... -0.213691 -0.081995  0.049199   \n",
       "402242  0.063537 -0.298347 -2.191639  ...  0.173418 -0.335607 -0.742113   \n",
       "\n",
       "             V23       V24       V25       V26       V27       V28  \\\n",
       "366679 -0.071817 -0.201100  0.437515  0.063724  0.023372  0.063353   \n",
       "491377 -0.060858 -0.146153  0.183482 -0.339893  0.053561  0.046590   \n",
       "398986 -0.350678  0.244728  0.465507 -0.504183  0.009518  0.134755   \n",
       "247110 -0.088177 -0.810271 -0.242932 -0.149331  0.142944  0.156400   \n",
       "402242 -0.222923 -0.915267  0.381526 -0.201142  0.108193  0.107448   \n",
       "\n",
       "        scaled_amount  \n",
       "366679      -0.189660  \n",
       "491377      -0.191954  \n",
       "398986      -0.190600  \n",
       "247110      -0.056666  \n",
       "402242      -0.190600  \n",
       "\n",
       "[5 rows x 29 columns]"
      ]
     },
     "execution_count": 30,
     "metadata": {},
     "output_type": "execute_result"
    }
   ],
   "source": [
    "X_test.head()"
   ]
  },
  {
   "cell_type": "markdown",
   "id": "afb4e4c7",
   "metadata": {},
   "source": [
    "### Lets build the machine learning model "
   ]
  },
  {
   "cell_type": "code",
   "execution_count": 31,
   "id": "05482805",
   "metadata": {},
   "outputs": [],
   "source": [
    "from sklearn.linear_model import LogisticRegression\n",
    "from sklearn.ensemble import RandomForestClassifier"
   ]
  },
  {
   "cell_type": "code",
   "execution_count": 32,
   "id": "9af82ca6",
   "metadata": {},
   "outputs": [],
   "source": [
    "from sklearn.model_selection import cross_val_score\n",
    "from sklearn.model_selection import StratifiedKFold"
   ]
  },
  {
   "cell_type": "markdown",
   "id": "6f299880",
   "metadata": {},
   "source": [
    "#### Due to the length of dataset we will using simple Random forest classifier & Logistic Regression without hyperparameter tuning"
   ]
  },
  {
   "cell_type": "code",
   "execution_count": 33,
   "id": "38b9a089",
   "metadata": {},
   "outputs": [],
   "source": [
    "classifiers1 =  RandomForestClassifier()"
   ]
  },
  {
   "cell_type": "code",
   "execution_count": 34,
   "id": "5fba2b59",
   "metadata": {},
   "outputs": [
    {
     "data": {
      "text/plain": [
       "RandomForestClassifier()"
      ]
     },
     "execution_count": 34,
     "metadata": {},
     "output_type": "execute_result"
    }
   ],
   "source": [
    "skf = StratifiedKFold(n_splits=5)\n",
    "classifiers1.fit(X_train, y_train)"
   ]
  },
  {
   "cell_type": "code",
   "execution_count": 35,
   "id": "b09d2de0",
   "metadata": {},
   "outputs": [
    {
     "name": "stdout",
     "output_type": "stream",
     "text": [
      "Classifiers:  100.0 % accuracy score\n"
     ]
    }
   ],
   "source": [
    "training_score = cross_val_score(classifiers1, X_train, y_train, cv=skf)\n",
    "print(\"Classifiers: \", round(training_score.mean(), 2) * 100, \"% accuracy score\")"
   ]
  },
  {
   "cell_type": "code",
   "execution_count": 36,
   "id": "d0dcc164",
   "metadata": {},
   "outputs": [],
   "source": [
    "y_pred = classifiers1.predict(X_test)"
   ]
  },
  {
   "cell_type": "code",
   "execution_count": 37,
   "id": "79453233",
   "metadata": {},
   "outputs": [],
   "source": [
    "from sklearn.metrics import confusion_matrix, classification_report, accuracy_score, precision_score, recall_score, fbeta_score"
   ]
  },
  {
   "cell_type": "code",
   "execution_count": 38,
   "id": "680ea1e5",
   "metadata": {},
   "outputs": [
    {
     "data": {
      "text/plain": [
       "array([[82534,    23],\n",
       "       [    0, 82546]], dtype=int64)"
      ]
     },
     "execution_count": 38,
     "metadata": {},
     "output_type": "execute_result"
    }
   ],
   "source": [
    "cm = confusion_matrix(y_test, y_pred)\n",
    "cm"
   ]
  },
  {
   "cell_type": "code",
   "execution_count": 39,
   "id": "f7529e16",
   "metadata": {},
   "outputs": [],
   "source": [
    "normal_res1 = len(y_test[y_test == 0])\n",
    "fraud_res1 = len(y_test[y_test == 1])"
   ]
  },
  {
   "cell_type": "code",
   "execution_count": 40,
   "id": "47be35d8",
   "metadata": {},
   "outputs": [
    {
     "data": {
      "text/plain": [
       "(82557, 82546)"
      ]
     },
     "execution_count": 40,
     "metadata": {},
     "output_type": "execute_result"
    }
   ],
   "source": [
    "normal_res1, fraud_res1"
   ]
  },
  {
   "cell_type": "code",
   "execution_count": 41,
   "id": "e14172f8",
   "metadata": {},
   "outputs": [],
   "source": [
    "def print_confusion_matrix(y_true, y_pred):\n",
    "    cm = confusion_matrix(y_true, y_pred)\n",
    "    print('True negative = ', cm[0][0])\n",
    "    print('False negative = ', cm[1][0])\n",
    "    print('False positive = ', cm[0][1])\n",
    "    print('True positive = ', cm[1][1])"
   ]
  },
  {
   "cell_type": "code",
   "execution_count": 42,
   "id": "c03b92c7",
   "metadata": {},
   "outputs": [
    {
     "data": {
      "image/png": "[encoded data removed]",
      "text/plain": [
       "<Figure size 640x480 with 2 Axes>"
      ]
     },
     "metadata": {},
     "output_type": "display_data"
    }
   ],
   "source": [
    "plt.title('Heatmap of Confusion Matrix for RF', fontsize = 15)\n",
    "sns.heatmap(cm, annot = True)\n",
    "plt.show()\n"
   ]
  },
  {
   "cell_type": "code",
   "execution_count": 43,
   "id": "9390b200",
   "metadata": {},
   "outputs": [
    {
     "name": "stdout",
     "output_type": "stream",
     "text": [
      "              precision    recall  f1-score   support\n",
      "\n",
      "           0       1.00      1.00      1.00     82557\n",
      "           1       1.00      1.00      1.00     82546\n",
      "\n",
      "    accuracy                           1.00    165103\n",
      "   macro avg       1.00      1.00      1.00    165103\n",
      "weighted avg       1.00      1.00      1.00    165103\n",
      "\n"
     ]
    }
   ],
   "source": [
    "print(classification_report(y_test, y_pred))"
   ]
  },
  {
   "cell_type": "code",
   "execution_count": 44,
   "id": "e1a08d64",
   "metadata": {},
   "outputs": [
    {
     "data": {
      "text/plain": [
       "0.9998606930219318"
      ]
     },
     "execution_count": 44,
     "metadata": {},
     "output_type": "execute_result"
    }
   ],
   "source": [
    "accuracy_score(y_test, y_pred)"
   ]
  },
  {
   "cell_type": "code",
   "execution_count": 45,
   "id": "6a55f58f",
   "metadata": {},
   "outputs": [
    {
     "data": {
      "text/plain": [
       "0.9997214450944059"
      ]
     },
     "execution_count": 45,
     "metadata": {},
     "output_type": "execute_result"
    }
   ],
   "source": [
    "precision_score(y_test, y_pred)"
   ]
  },
  {
   "cell_type": "code",
   "execution_count": 46,
   "id": "aea114d5",
   "metadata": {},
   "outputs": [
    {
     "data": {
      "text/plain": [
       "1.0"
      ]
     },
     "execution_count": 46,
     "metadata": {},
     "output_type": "execute_result"
    }
   ],
   "source": [
    "recall_score(y_test, y_pred)"
   ]
  },
  {
   "cell_type": "code",
   "execution_count": 47,
   "id": "2f428424",
   "metadata": {},
   "outputs": [
    {
     "name": "stdout",
     "output_type": "stream",
     "text": [
      "True negative =  82534\n",
      "False negative =  0\n",
      "False positive =  23\n",
      "True positive =  82546\n"
     ]
    }
   ],
   "source": [
    "print_confusion_matrix(y_test, y_pred)"
   ]
  },
  {
   "cell_type": "code",
   "execution_count": 48,
   "id": "20bf5f10",
   "metadata": {},
   "outputs": [
    {
     "data": {
      "text/plain": [
       "0.9998607031462919"
      ]
     },
     "execution_count": 48,
     "metadata": {},
     "output_type": "execute_result"
    }
   ],
   "source": [
    "fb_rf = fbeta_score(y_test, y_pred, beta=1)\n",
    "fb_rf"
   ]
  },
  {
   "cell_type": "markdown",
   "id": "0fadae79",
   "metadata": {},
   "source": [
    "## Logistic Regression"
   ]
  },
  {
   "cell_type": "code",
   "execution_count": 51,
   "id": "9d33eec6",
   "metadata": {},
   "outputs": [],
   "source": [
    "clf_lr = LogisticRegression()"
   ]
  },
  {
   "cell_type": "code",
   "execution_count": 52,
   "id": "635f5d49",
   "metadata": {},
   "outputs": [
    {
     "data": {
      "text/plain": [
       "LogisticRegression()"
      ]
     },
     "execution_count": 52,
     "metadata": {},
     "output_type": "execute_result"
    }
   ],
   "source": [
    "skf = StratifiedKFold(n_splits=5)\n",
    "clf_lr.fit(X_train, y_train)"
   ]
  },
  {
   "cell_type": "code",
   "execution_count": 53,
   "id": "6eb4f7d2",
   "metadata": {},
   "outputs": [
    {
     "name": "stdout",
     "output_type": "stream",
     "text": [
      "Classifiers:  92.0 % accuracy score\n"
     ]
    }
   ],
   "source": [
    "training_score_lr = cross_val_score(clf_lr, X_train, y_train, cv=skf)\n",
    "print(\"Classifiers: \", round(training_score_lr.mean(), 2) * 100, \"% accuracy score\")"
   ]
  },
  {
   "cell_type": "code",
   "execution_count": 54,
   "id": "693e53a6",
   "metadata": {},
   "outputs": [],
   "source": [
    "y_pred_lr = clf_lr.predict(X_test)"
   ]
  },
  {
   "cell_type": "code",
   "execution_count": 55,
   "id": "89de8143",
   "metadata": {},
   "outputs": [
    {
     "data": {
      "image/png": "[encoded data removed]",
      "text/plain": [
       "<Figure size 640x480 with 2 Axes>"
      ]
     },
     "metadata": {},
     "output_type": "display_data"
    }
   ],
   "source": [
    "cm_lr = confusion_matrix(y_test, y_pred_lr)\n",
    "plt.title('Heatmap of Confusion Matrix for LogisticReg', fontsize = 15)\n",
    "sns.heatmap(cm_lr, annot = True)\n",
    "plt.show()"
   ]
  },
  {
   "cell_type": "code",
   "execution_count": 56,
   "id": "5b9f5d70",
   "metadata": {},
   "outputs": [
    {
     "name": "stdout",
     "output_type": "stream",
     "text": [
      "True negative =  78476\n",
      "False negative =  9196\n",
      "False positive =  4081\n",
      "True positive =  73350\n"
     ]
    }
   ],
   "source": [
    "print_confusion_matrix(y_test, y_pred_lr)"
   ]
  },
  {
   "cell_type": "code",
   "execution_count": 57,
   "id": "ce0284f7",
   "metadata": {},
   "outputs": [
    {
     "data": {
      "text/plain": [
       "0.9195835327038273"
      ]
     },
     "execution_count": 57,
     "metadata": {},
     "output_type": "execute_result"
    }
   ],
   "source": [
    "accuracy_score(y_test,y_pred_lr)"
   ]
  },
  {
   "cell_type": "code",
   "execution_count": 58,
   "id": "f6a2f078",
   "metadata": {},
   "outputs": [
    {
     "data": {
      "text/plain": [
       "0.9472950110420891"
      ]
     },
     "execution_count": 58,
     "metadata": {},
     "output_type": "execute_result"
    }
   ],
   "source": [
    "precision_score(y_test,y_pred_lr)"
   ]
  },
  {
   "cell_type": "code",
   "execution_count": 59,
   "id": "be18b37c",
   "metadata": {},
   "outputs": [
    {
     "data": {
      "text/plain": [
       "0.888595449809803"
      ]
     },
     "execution_count": 59,
     "metadata": {},
     "output_type": "execute_result"
    }
   ],
   "source": [
    "recall_score(y_test,y_pred_lr)"
   ]
  },
  {
   "cell_type": "code",
   "execution_count": 61,
   "id": "56d57c93",
   "metadata": {},
   "outputs": [
    {
     "data": {
      "text/plain": [
       "0.9170068197303363"
      ]
     },
     "execution_count": 61,
     "metadata": {},
     "output_type": "execute_result"
    }
   ],
   "source": [
    "fb_lr = fbeta_score(y_test, y_pred_lr, beta=1)\n",
    "fb_lr"
   ]
  },
  {
   "cell_type": "code",
   "execution_count": 62,
   "id": "448e9ccd",
   "metadata": {},
   "outputs": [
    {
     "data": {
      "image/png": "[encoded data removed]",
      "text/plain": [
       "<Figure size 640x480 with 1 Axes>"
      ]
     },
     "metadata": {},
     "output_type": "display_data"
    }
   ],
   "source": [
    "y_pred_proba = clf_lr.predict_proba(X_test)[::,1]\n",
    "fpr, tpr, _ = metrics.roc_curve(y_test,  y_pred_proba)\n",
    "auc = metrics.roc_auc_score(y_test, y_pred_proba)\n",
    "plt.plot(fpr,tpr,label=\"data 1, auc=\"+str(auc))\n",
    "plt.legend(loc=4)\n",
    "plt.show()"
   ]
  },
  {
   "cell_type": "code",
   "execution_count": 63,
   "id": "e1867b36",
   "metadata": {},
   "outputs": [],
   "source": [
    "import scikitplot as skplt #to make things easy\n"
   ]
  },
  {
   "cell_type": "code",
   "execution_count": 64,
   "id": "15a443ef",
   "metadata": {},
   "outputs": [
    {
     "data": {
      "image/png": "[encoded data removed]",
      "text/plain": [
       "<Figure size 640x480 with 1 Axes>"
      ]
     },
     "metadata": {},
     "output_type": "display_data"
    }
   ],
   "source": [
    "y_pred_prob = clf_lr.predict_proba(X_test)\n",
    "skplt.metrics.plot_roc_curve(y_test, y_pred_prob)\n",
    "plt.show()"
   ]
  },
  {
   "cell_type": "markdown",
   "id": "779e5526",
   "metadata": {},
   "source": [
    "### Final Result"
   ]
  },
  {
   "cell_type": "code",
   "execution_count": 65,
   "id": "341b6492",
   "metadata": {},
   "outputs": [
    {
     "name": "stdout",
     "output_type": "stream",
     "text": [
      "The best F1 score is 0.9998607 for Random Forest model.\n"
     ]
    }
   ],
   "source": [
    "list = [fb_lr,fb_rf]\n",
    "\n",
    "\n",
    "if (fb_lr == max(list)):\n",
    "    print('The best F1 score is {:.7f} for Logistic Regression model.'.format(fb_lr))\n",
    "else: \n",
    "    print('The best F1 score is {:.7f} for Random Forest model.'.format(fb_rf))"
   ]
  },
  {
   "cell_type": "code",
   "execution_count": 66,
   "id": "444f7e01",
   "metadata": {},
   "outputs": [
    {
     "data": {
      "image/png": "[encoded data removed]",
      "text/plain": [
       "<Figure size 640x480 with 1 Axes>"
      ]
     },
     "metadata": {},
     "output_type": "display_data"
    }
   ],
   "source": [
    "#ROC Curve\n",
    "\n",
    "figure(figsize=(8, 6), dpi=80)\n",
    "from sklearn.metrics import roc_curve\n",
    "y_pred_prob1 = classifiers1.predict_proba(X_test)[:,1]\n",
    "\n",
    "fpr1 , tpr1, thresholds1 = roc_curve(y_test, y_pred_prob1)\n",
    "auc = round(metrics.roc_auc_score(y_test, y_pred_prob1),7)\n",
    "\n",
    "# y_pred_prob2 = clf_gnb.predict_proba(X_test)[:,1]\n",
    "# fpr2 , tpr2, thresholds2 = roc_curve(y_test, y_pred_prob2)\n",
    "# auc2 = round(metrics.roc_auc_score(y_test, y_pred_prob2),4)\n",
    "\n",
    "y_pred_prob3 = clf_lr.predict_proba(X_test)[:,1]\n",
    "fpr3 , tpr3, thresholds3 = roc_curve(y_test, y_pred_prob3)\n",
    "auc3 = round(metrics.roc_auc_score(y_test, y_pred_prob3),7)\n",
    "plt.plot([0,1],[0,1], 'k--')\n",
    "plt.plot(fpr1, tpr1, label= \"RF: \"+str(auc))\n",
    "# plt.plot(fpr2, tpr2, label= \"GNB: \"+str(auc2) )\n",
    "plt.plot(fpr3, tpr3, label= \"LR: \"+str(auc3))\n",
    "\n",
    "plt.legend(loc=4)\n",
    "plt.xlabel(\"FPR\")\n",
    "plt.ylabel(\"TPR\")\n",
    "plt.title('Receiver Operating Characteristic')\n",
    "plt.show()"
   ]
  },
  {
   "cell_type": "code",
   "execution_count": null,
   "id": "b468d930",
   "metadata": {},
   "outputs": [],
   "source": []
  },
  {
   "cell_type": "code",
   "execution_count": null,
   "id": "b907f8cc",
   "metadata": {},
   "outputs": [],
   "source": []
  }
 ],
 "metadata": {
  "kernelspec": {
   "display_name": "Python 3",
   "language": "python",
   "name": "python3"
  },
  "language_info": {
   "codemirror_mode": {
    "name": "ipython",
    "version": 3
   },
   "file_extension": ".py",
   "mimetype": "text/x-python",
   "name": "python",
   "nbconvert_exporter": "python",
   "pygments_lexer": "ipython3",
   "version": "3.7.6"
  }
 },
 "nbformat": 4,
 "nbformat_minor": 5
}
